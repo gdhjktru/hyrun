{
 "cells": [
  {
   "cell_type": "markdown",
   "id": "1276d40b",
   "metadata": {},
   "source": [
    "# Workflows\n",
    "\n",
    "Workflows in `hyrun` are represented usint the `JobGraph` class. A `JobGraph` instance comprises `hyrun` jobs and their (optional) dependencies in the form of a direct graph using the python package [`networkx`](https://networkx.org). This structure allows the construction and manipulation and analysis of complexed workflows using `hyrun`."
   ]
  },
  {
   "cell_type": "code",
   "execution_count": 1,
   "id": "b01ad894",
   "metadata": {},
   "outputs": [],
   "source": [
    "from hyrun.job import JobGraph, Job"
   ]
  },
  {
   "cell_type": "markdown",
   "id": "6de3a198",
   "metadata": {},
   "source": [
    "## Construction \n",
    "\n",
    "A `JobGraph` is constructed from a list of jobs, that provide the hashes that will be the nodes (vertices) and a list of tuples of dependencies, that will be represented by the edges.\n",
    "\n",
    "### Construction from `RunSettings`, `Job` and `dict`\n",
    "A `hyrun.job.JobGraph` can be constructed using the wrapper `hyrun.job.get_workflow()` which takes as input a (list of) `hyrun.job.Job`, `hyset.v2.RunSettings`, `dict` or a combination of these. The wrapper will convert the latter two into a `hyrun.job.Job`. \n",
    "\n",
    "The following example generates a workflow with 3 jobs:"
   ]
  },
  {
   "cell_type": "code",
   "execution_count": 2,
   "id": "88552a01",
   "metadata": {},
   "outputs": [],
   "source": [
    "from hyrun.job import get_workflow\n",
    "from hyset.v2 import RunSettings\n",
    "job = Job(hash='from_job')\n",
    "rs = RunSettings(logger={'print_level': 'critical'})\n",
    "d = {'hash':'from_dict'}\n",
    "\n",
    "workflow = get_workflow([job, rs, d])"
   ]
  },
  {
   "cell_type": "markdown",
   "id": "d555f998",
   "metadata": {},
   "source": [
    "In cases where more than one calculation should be processes within one job, e.g. for consecutive steps like model training and validation or remote parsing, `get_workflow()` expects nestes lists of `RunSettings`. The following workflow consiste of 3 jobs where the second job comprises two consecuctive calculations:"
   ]
  },
  {
   "cell_type": "code",
   "execution_count": 3,
   "id": "8f955002",
   "metadata": {},
   "outputs": [],
   "source": [
    "workflow = get_workflow([job, [rs, rs], d])"
   ]
  },
  {
   "cell_type": "markdown",
   "id": "a95333c1",
   "metadata": {},
   "source": [
    "> **Note:**  \n",
    "> The following workflow relations hold:\n",
    "> - `get_work_flow(rs) == get_work_flow([[rs]])`\n",
    "> - `get_work_flow([rs, rs, rs]) == get_work_flow([[rs], [rs], [rs]])`\n"
   ]
  },
  {
   "cell_type": "markdown",
   "id": "d095b28a",
   "metadata": {},
   "source": [
    "### Construction with dependencies\n",
    "Job dependencies are defined as tuples `(ancestor, descendant)` where `descendant` depends on the `ancestor`. This means in practice that the `descendant` job is not going to be submitted until the `ancestor` job has the status `COMPLETED` (see below for node properties)."
   ]
  },
  {
   "cell_type": "code",
   "execution_count": 4,
   "id": "b1c8bd57",
   "metadata": {},
   "outputs": [
    {
     "name": "stdout",
     "output_type": "stream",
     "text": [
      "['hash0', 'hash1', 'hash2', 'hash3', 'hash4', 'hash5', 'hash6']\n",
      "[('hash0', 'hash1'), ('hash1', 'hash2'), ('hash1', 'hash3'), ('hash2', 'hash4')]\n"
     ]
    }
   ],
   "source": [
    "jobs = [Job(hash=f'hash{i}', status='UNKNOWN') for i in range(7)]\n",
    "dependencies = [(jobs[i].hash, jobs[j].hash) for (i, j) in [(0, 1), (1, 2), (1, 3), (2, 4)]]\n",
    "\n",
    "graph = JobGraph(nodes=jobs, edges=dependencies)\n",
    "print(graph.nodes)\n",
    "print(graph.edges)"
   ]
  },
  {
   "cell_type": "markdown",
   "id": "b8f01cb1",
   "metadata": {},
   "source": [
    "A `hyrun.graph.JobGraph` might also be created from jobs without hashes, the node labels are then the indices in which the nodes have been added to the graph."
   ]
  },
  {
   "cell_type": "code",
   "execution_count": 5,
   "id": "13d98b03",
   "metadata": {},
   "outputs": [
    {
     "name": "stdout",
     "output_type": "stream",
     "text": [
      "╟── 0\n",
      "╎   └─╼ 1\n",
      "╎       ├─╼ 2\n",
      "╎       │   └─╼ 4\n",
      "╎       └─╼ 3\n",
      "╟── 5\n",
      "╙── 6\n"
     ]
    }
   ],
   "source": [
    "newgraph = JobGraph(jobs=[Job() for _ in range(7)], dependencies=[(0, 1), (1, 2), (1, 3), (2, 4)])\n",
    "print(newgraph)"
   ]
  },
  {
   "cell_type": "markdown",
   "id": "37cca752",
   "metadata": {},
   "source": [
    "Nodes can be relabeled providing the respective mapping:"
   ]
  },
  {
   "cell_type": "code",
   "execution_count": 6,
   "id": "dd3d2381",
   "metadata": {},
   "outputs": [
    {
     "name": "stdout",
     "output_type": "stream",
     "text": [
      "╟── water1\n",
      "╎   └─╼ water2\n",
      "╎       ├─╼ hash2\n",
      "╎       │   └─╼ hash4\n",
      "╎       └─╼ hash3\n",
      "╟── hash5\n",
      "╙── hash6\n"
     ]
    }
   ],
   "source": [
    "from copy import copy\n",
    "newgraph = copy(graph)\n",
    "newgraph.relabel_nodes({'hash0': 'water1', 'hash1': 'water2'})\n",
    "print(newgraph)"
   ]
  },
  {
   "cell_type": "markdown",
   "id": "7f11492e",
   "metadata": {},
   "source": [
    "## Visualization\n",
    "\n",
    "A simple overview of the graph with its depencies can be printed like this:"
   ]
  },
  {
   "cell_type": "code",
   "execution_count": 7,
   "id": "a500c786",
   "metadata": {},
   "outputs": [
    {
     "name": "stdout",
     "output_type": "stream",
     "text": [
      "╟── hash0\n",
      "╎   └─╼ hash1\n",
      "╎       ├─╼ hash2\n",
      "╎       │   └─╼ hash4\n",
      "╎       └─╼ hash3\n",
      "╟── hash5\n",
      "╙── hash6\n"
     ]
    }
   ],
   "source": [
    "print(graph)"
   ]
  },
  {
   "cell_type": "markdown",
   "id": "3fd19569",
   "metadata": {},
   "source": [
    "\n",
    "The order in which hyrun processes the jobs may differ from the order of the nodes the graph has been constructed with due to the dependencies.\n",
    "The correct order in which the jobs run is therefore:"
   ]
  },
  {
   "cell_type": "code",
   "execution_count": 8,
   "id": "b62302b7",
   "metadata": {},
   "outputs": [
    {
     "name": "stdout",
     "output_type": "stream",
     "text": [
      "['hash0', 'hash5', 'hash6', 'hash1', 'hash2', 'hash3', 'hash4']\n"
     ]
    }
   ],
   "source": [
    "print(graph.topological)"
   ]
  },
  {
   "cell_type": "markdown",
   "id": "8453b361",
   "metadata": {},
   "source": [
    "and can be visualized:"
   ]
  },
  {
   "cell_type": "code",
   "execution_count": 9,
   "id": "c1b31c6d",
   "metadata": {},
   "outputs": [
    {
     "data": {
      "image/png": "[encoded data removed]",
      "text/plain": [
       "<Figure size 640x480 with 1 Axes>"
      ]
     },
     "metadata": {},
     "output_type": "display_data"
    }
   ],
   "source": [
    "graph.show(title='Myjob')"
   ]
  },
  {
   "cell_type": "markdown",
   "id": "3d1be474",
   "metadata": {},
   "source": [
    "## Properties\n",
    "\n",
    "Both nodes and edges can have properties. Per default, status and a db_id are extracted from the jobs."
   ]
  },
  {
   "cell_type": "code",
   "execution_count": 10,
   "id": "b88e4c53",
   "metadata": {},
   "outputs": [
    {
     "name": "stdout",
     "output_type": "stream",
     "text": [
      "job hash2 does *not* run\n",
      "job hash3 does *not* run\n",
      "job hash4 does *not* run\n",
      "job hash5 does *not* run\n",
      "job hash6 does *not* run\n"
     ]
    }
   ],
   "source": [
    "graph['hash0']['status'] = 'RUNNING'\n",
    "graph['hash1']['status'] = 'RUNNING'\n",
    "graph['hash3']['status'] = 'FAILED'\n",
    "graph['hash5']['status'] = 'PENDING'\n",
    "graph['hash6']['status'] = 'COMPLETED'\n",
    "\n",
    "\n",
    "for job in graph.nodes:\n",
    "    if graph[job].get('status') != 'RUNNING':\n",
    "        print(f'job {job} does *not* run')\n"
   ]
  },
  {
   "cell_type": "markdown",
   "id": "c93592f2",
   "metadata": {},
   "source": [
    "The properties can also be used for conveniently plotting the progress of a workflow:"
   ]
  },
  {
   "cell_type": "code",
   "execution_count": 11,
   "id": "d2023106",
   "metadata": {},
   "outputs": [
    {
     "data": {
      "image/png": "[encoded data removed]",
      "text/plain": [
       "<Figure size 640x480 with 1 Axes>"
      ]
     },
     "metadata": {},
     "output_type": "display_data"
    }
   ],
   "source": [
    "color_map = {'COMPLETED': 'green', 'RUNNING': 'yellow', 'PENDING': 'orange', 'FAILED': 'red', 'UNKNOWN': 'white'}\n",
    "node_color = [color_map[graph[job].get('status', 'UNKNOWN')] for job in graph.nodes]\n",
    "graph.show(title='Myjob progress', node_color=node_color, node_shape='o', node_size=1200)"
   ]
  },
  {
   "cell_type": "code",
   "execution_count": 12,
   "id": "b39508b5",
   "metadata": {},
   "outputs": [
    {
     "name": "stdout",
     "output_type": "stream",
     "text": [
      "edge hash0 -> hash1 has weight over 0.2\n",
      "edge hash2 -> hash4 has weight over 0.2\n"
     ]
    }
   ],
   "source": [
    "graph[('hash0', 'hash1')]['weight'] = 0.5\n",
    "graph[('hash2', 'hash4')]['weight'] = 0.75\n",
    "\n",
    "for u, v in graph.edges:\n",
    "    if graph[(u, v)].get('weight', 0.0) > 0.2:\n",
    "        print(f'edge {u} -> {v} has weight over 0.2')"
   ]
  },
  {
   "cell_type": "markdown",
   "id": "10258caf",
   "metadata": {},
   "source": [
    "## Run conditions"
   ]
  },
  {
   "cell_type": "markdown",
   "id": "700f7579",
   "metadata": {},
   "source": [
    "Properties can be used to define conditions for a job to run.\n",
    "Per default, all nodes directly preceeding the given node must have the status `COMPLETED`:"
   ]
  },
  {
   "cell_type": "code",
   "execution_count": 13,
   "id": "042c731a",
   "metadata": {},
   "outputs": [],
   "source": [
    "graph['hash1']['status'] = 'COMPLETED'\n",
    "assert graph.is_ready_to_run('hash2') # should return True\n",
    "assert not graph.is_ready_to_run('hash4') # should return False, because hash2 is not completed yet"
   ]
  },
  {
   "cell_type": "markdown",
   "id": "cd48f9c5",
   "metadata": {},
   "source": [
    "Workflows represented by `hyrun.JobGraph` support custom run requirements. For example, that the directly preceeding nodes should have status `Completed` and the weight of the corresponding edge is larger than a threshold:"
   ]
  },
  {
   "cell_type": "code",
   "execution_count": 30,
   "id": "caa9173c",
   "metadata": {},
   "outputs": [],
   "source": [
    "jobs = [Job(hash=f'hash{i}') for i in range(3)]\n",
    "dependencies = [(jobs[i].hash, jobs[j].hash) for (i, j) in [(0, 1)]]\n",
    "weights = [('hash0', 'hash1', 0.6)]\n",
    "run_requirements = [{'element': 'node',\n",
    "                   'property': 'status',\n",
    "                   'operator': '==',\n",
    "                   'value': 'COMPLETED'},\n",
    "                   {'element': 'edge',\n",
    "                   'property': 'weight',\n",
    "                   'operator': '>=',\n",
    "                   'value': 0.5}]\n",
    "\n",
    "newgraph = JobGraph(nodes=jobs,\n",
    "                    edges=dependencies,\n",
    "                    weights=weights,\n",
    "                    run_requirements=run_requirements)\n",
    "\n",
    "# print(newgraph)\n",
    "\n",
    "newgraph['hash0']['status'] = 'COMPLETED'\n",
    "newgraph['hash1']['status'] = 'PENDING'\n",
    "assert not newgraph.is_ready_to_run('hash0') # should return False because this node already ran\n",
    "assert newgraph.is_ready_to_run('hash1') # should return True because hash0 is completed and weight is 0.6 >= 0.5\n",
    "newgraph[('hash0', 'hash1')]['weight'] = 0.4\n",
    "assert not newgraph.is_ready_to_run('hash1') # should return False because weight is 0.4 < 0.5\n",
    "assert newgraph.is_ready_to_run('hash2') # should return True because hash2 has no dependencies\n"
   ]
  },
  {
   "cell_type": "markdown",
   "id": "07fab039",
   "metadata": {},
   "source": [
    "Importantly, run requirements can be utilized to create dynamic workflows:\n"
   ]
  },
  {
   "cell_type": "code",
   "execution_count": null,
   "id": "b0808887",
   "metadata": {},
   "outputs": [
    {
     "name": "stdout",
     "output_type": "stream",
     "text": [
      "Running script() for job hash1 with source hash0\n"
     ]
    }
   ],
   "source": [
    "def script(src=None, dst=None, **kwargs):\n",
    "    print(f'Running script() for job {dst} with source {src}')\n",
    "\n",
    "next_job = 'hash1'\n",
    "previous_jobs = newgraph.direct_ancestors(next_job)\n",
    "if all(newgraph[node]['status']  == 'COMPLETED' for node in previous_jobs):\n",
    "    script(src='hash0', dst='hash1')\n",
    "    newgraph[('hash0', 'hash1')]['weight'] = 1.0\n",
    "    "
   ]
  },
  {
   "cell_type": "markdown",
   "id": "cb44f3f4",
   "metadata": {},
   "source": [
    "In the example above, `script()` can be used to manipulate the job with `hash1`.\n",
    "For example if it requires copy of the output files of a direct ancestor.\n",
    "Note, however, that `JobGraph` *represents*, the jobs, i.e., if one ones to modify an actual job, one has to access it via the database, e.g., via `JobGraph['node'].get('db_id')` or by looking up the hash in the database:\n",
    "\n",
    "```python:\n",
    "job = db.search_one(hash=node, resolve=True)\n",
    "# ... do stuff ...\n",
    "db.update_one(entry=job, db_id=job.db_id)\n",
    "```"
   ]
  },
  {
   "cell_type": "markdown",
   "id": "195952a4",
   "metadata": {},
   "source": [
    "## Manipulation\n",
    "\n",
    "Both nodes and edges can be added and removed."
   ]
  },
  {
   "cell_type": "code",
   "execution_count": 16,
   "id": "20682e75",
   "metadata": {},
   "outputs": [
    {
     "name": "stdout",
     "output_type": "stream",
     "text": [
      "╟── hash100\n",
      "╟── hash101\n",
      "╟── hash102\n",
      "╙── hash103\n"
     ]
    }
   ],
   "source": [
    "newgraph = JobGraph(jobs=[Job(hash=f'hash{100+i}') for i in range(4)])\n",
    "print(newgraph)"
   ]
  },
  {
   "cell_type": "code",
   "execution_count": 17,
   "id": "07f51acc",
   "metadata": {},
   "outputs": [
    {
     "name": "stdout",
     "output_type": "stream",
     "text": [
      "╟── hash100\n",
      "╙── hash101\n",
      "    └─╼ hash102\n"
     ]
    }
   ],
   "source": [
    "newgraph.add_edge('hash101', 'hash102')\n",
    "newgraph.remove_node('hash103')\n",
    "print(newgraph)"
   ]
  },
  {
   "cell_type": "markdown",
   "id": "ecfd8519",
   "metadata": {},
   "source": [
    "Note that per default, removing an edge does not remove any nodes, and thus the graph topology is changed:"
   ]
  },
  {
   "cell_type": "code",
   "execution_count": 18,
   "id": "b8537715",
   "metadata": {},
   "outputs": [
    {
     "name": "stdout",
     "output_type": "stream",
     "text": [
      "╟── hash0\n",
      "╎   └─╼ hash1\n",
      "╎       └─╼ hash3\n",
      "╎           └─╼ hash7\n",
      "╟── hash2\n",
      "╎   └─╼ hash4\n",
      "╙── hash5\n"
     ]
    }
   ],
   "source": [
    "newgraph = copy(graph)\n",
    "\n",
    "newgraph.remove_edge('hash1', 'hash2')\n",
    "newgraph.remove_node('hash6')\n",
    "newgraph.add_node(Job(hash='hash7'))\n",
    "newgraph.add_edge('hash3', 'hash7')\n",
    "print(newgraph)\n",
    "\n"
   ]
  },
  {
   "cell_type": "markdown",
   "id": "78106c79",
   "metadata": {},
   "source": [
    "An entire branch can be removed by removing all descendants:"
   ]
  },
  {
   "cell_type": "code",
   "execution_count": 19,
   "id": "6254bd88",
   "metadata": {},
   "outputs": [
    {
     "name": "stdout",
     "output_type": "stream",
     "text": [
      "╟── hash0\n",
      "╎   └─╼ hash1\n",
      "╎       └─╼ hash3\n",
      "╟── hash5\n",
      "╙── hash6\n"
     ]
    }
   ],
   "source": [
    "newgraph = copy(graph)\n",
    "newgraph.remove_edge('hash1', 'hash2', remove_descendants=True)\n",
    "print(newgraph)\n"
   ]
  },
  {
   "cell_type": "raw",
   "id": "ff2f19a7",
   "metadata": {},
   "source": [
    "For a given node, descendants and ancestors can be extracted:"
   ]
  },
  {
   "cell_type": "code",
   "execution_count": 20,
   "id": "9fff3513",
   "metadata": {},
   "outputs": [
    {
     "name": "stdout",
     "output_type": "stream",
     "text": [
      "['hash4', 'hash3', 'hash2', 'hash1']\n",
      "[]\n"
     ]
    }
   ],
   "source": [
    "print(graph.descendants('hash0'))\n",
    "print(graph.descendants('hash5'))\n",
    "    "
   ]
  },
  {
   "cell_type": "code",
   "execution_count": 21,
   "id": "dcf3a76c",
   "metadata": {},
   "outputs": [
    {
     "name": "stdout",
     "output_type": "stream",
     "text": [
      "['hash0', 'hash1']\n",
      "[]\n"
     ]
    }
   ],
   "source": [
    "print(graph.ancestors('hash3'))\n",
    "print(graph.ancestors('hash5'))"
   ]
  },
  {
   "cell_type": "markdown",
   "id": "8f9ec094",
   "metadata": {},
   "source": [
    "## Storage\n",
    "\n",
    "A graph can be dumped to disk and read again. Per default the 'node-link' format is used in order to produce a json seralizable object:"
   ]
  },
  {
   "cell_type": "code",
   "execution_count": 22,
   "id": "61915211",
   "metadata": {},
   "outputs": [],
   "source": [
    "filename='jobgraph'\n",
    "graph.write(filename=filename)\n"
   ]
  },
  {
   "cell_type": "code",
   "execution_count": 23,
   "id": "18e11bee",
   "metadata": {},
   "outputs": [
    {
     "name": "stdout",
     "output_type": "stream",
     "text": [
      "{\n",
      "    \"directed\": true,\n",
      "    \"multigraph\": false,\n",
      "    \"graph\": {},\n",
      "    \"nodes\": [\n",
      "        {\n",
      "            \"hash\": \"hash0\",\n",
      "            \"status\": \"RUNNING\",\n",
      "            \"db_id\": null,\n",
      "            \"layer\": 0,\n",
      "            \"id\": \"hash0\"\n",
      "        },\n",
      "        {\n",
      "            \"hash\": \"hash1\",\n",
      "            \"status\": \"COMPLETED\",\n",
      "            \"db_id\": null,\n",
      "            \"layer\": 1,\n",
      "            \"id\": \"hash1\"\n",
      "        },\n",
      "        {\n",
      "            \"hash\": \"hash2\",\n",
      "            \"status\": \"UNKNOWN\",\n",
      "            \"db_id\": null,\n",
      "            \"layer\": 2,\n",
      "            \"id\": \"hash2\"\n",
      "        },\n",
      "        {\n",
      "            \"hash\": \"hash3\",\n",
      "            \"status\": \"FAILED\",\n",
      "            \"db_id\": null,\n",
      "            \"layer\": 2,\n",
      "            \"id\": \"hash3\"\n",
      "        },\n",
      "        {\n",
      "            \"hash\": \"hash4\",\n",
      "            \"status\": \"UNKNOWN\",\n",
      "            \"db_id\": null,\n",
      "            \"layer\": 3,\n",
      "            \"id\": \"hash4\"\n",
      "        },\n",
      "        {\n",
      "            \"hash\": \"hash5\",\n",
      "            \"status\": \"PENDING\",\n",
      "            \"db_id\": null,\n",
      "            \"layer\": 0,\n",
      "            \"id\": \"hash5\"\n",
      "        },\n",
      "        {\n",
      "            \"hash\": \"hash6\",\n",
      "            \"status\": \"COMPLETED\",\n",
      "            \"db_id\": null,\n",
      "            \"layer\": 0,\n",
      "            \"id\": \"hash6\"\n",
      "        }\n",
      "    ],\n",
      "    \"edges\": [\n",
      "        {\n",
      "            \"weight\": 0.5,\n",
      "            \"source\": \"hash0\",\n",
      "            \"target\": \"hash1\"\n",
      "        },\n",
      "        {\n",
      "            \"source\": \"hash1\",\n",
      "            \"target\": \"hash2\"\n",
      "        },\n",
      "        {\n",
      "            \"source\": \"hash1\",\n",
      "            \"target\": \"hash3\"\n",
      "        },\n",
      "        {\n",
      "            \"weight\": 0.75,\n",
      "            \"source\": \"hash2\",\n",
      "            \"target\": \"hash4\"\n",
      "        }\n",
      "    ]\n",
      "}\n"
     ]
    }
   ],
   "source": [
    "from pathlib import Path\n",
    "print(Path(filename).read_text())\n",
    "Path(filename).unlink()"
   ]
  },
  {
   "cell_type": "code",
   "execution_count": null,
   "id": "02b6ed9b",
   "metadata": {},
   "outputs": [],
   "source": []
  }
 ],
 "metadata": {
  "kernelspec": {
   "display_name": "base",
   "language": "python",
   "name": "python3"
  },
  "language_info": {
   "codemirror_mode": {
    "name": "ipython",
    "version": 3
   },
   "file_extension": ".py",
   "mimetype": "text/x-python",
   "name": "python",
   "nbconvert_exporter": "python",
   "pygments_lexer": "ipython3",
   "version": "3.11.5"
  }
 },
 "nbformat": 4,
 "nbformat_minor": 5
}
