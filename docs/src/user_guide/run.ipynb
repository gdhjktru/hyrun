{
 "cells": [
  {
   "cell_type": "code",
   "execution_count": null,
   "id": "f1fb6ecb",
   "metadata": {},
   "outputs": [],
   "source": [
    "from hyrun import run\n",
    "\n",
    "from hyset.v2 import convert_compute_settings\n",
    "from hyset import create_compute_settings as ccs\n",
    "from hyif import Xtb\n",
    "from hyobj import Molecule\n",
    "\n",
    "\n",
    "\n"
   ]
  },
  {
   "cell_type": "markdown",
   "id": "5b00a33a",
   "metadata": {},
   "source": [
    "testing connection, scheduler and database separately"
   ]
  },
  {
   "cell_type": "code",
   "execution_count": 4,
   "id": "12fb0105",
   "metadata": {},
   "outputs": [
    {
     "name": "stdout",
     "output_type": "stream",
     "text": [
      "ComputeSettingsScheduler(scheduler_type='local', scheduler_launcher=[], slurm_account='nn4654k', modules=[], job_name=None, qos_devel=False, create_symlinks=True, slurm_extra=[])\n",
      "LocalScheduler()\n",
      "hyset_1 - ERROR : Memory per CPU not set in compute settings.\n"
     ]
    },
    {
     "data": {
      "text/plain": [
       "'xtb --gfn 2'"
      ]
     },
     "execution_count": 4,
     "metadata": {},
     "output_type": "execute_result"
    }
   ],
   "source": [
    "from hyrun.scheduler import get_scheduler\n",
    "from hyset.base import ComputeSettingsScheduler\n",
    "from dataclasses import asdict\n",
    "from hyset.v2 import RunSettings\n",
    "from hyrun.job import Job\n",
    "\n",
    "cs = ComputeSettingsScheduler(scheduler_type='local')\n",
    "print(cs)\n",
    "scheduler = get_scheduler(**asdict(cs))\n",
    "print(scheduler)\n",
    "rs = RunSettings()\n",
    "rs.program = 'xtb'\n",
    "rs.args= ['--gfn', '2']\n",
    "job = Job(tasks=rs)\n",
    "scheduler.gen_job_script(job)"
   ]
  },
  {
   "cell_type": "code",
   "execution_count": null,
   "id": "256b27cb",
   "metadata": {},
   "outputs": [],
   "source": [
    "mol = Molecule('O')\n",
    "cs = ccs()\n",
    "cs2 = convert_compute_settings(cs)\n",
    "cs2.database = {'database_name': 'test.db'}\n",
    "xtb = Xtb(compute_settings=cs2)\n",
    "rs2 = xtb.setup(mol)\n",
    "\n"
   ]
  },
  {
   "cell_type": "code",
   "execution_count": null,
   "id": "820bd242",
   "metadata": {},
   "outputs": [],
   "source": [
    "from hyrun.job import Job\n",
    "job = Job(tasks=[rs2])\n",
    "from hytools.file import File\n",
    "from hydb import get_database\n",
    "job.job_script = File(name='job.sh', content='ls -l\\n')\n",
    "job.set_hash()\n",
    "print(job)\n",
    "db = get_database(job.tasks[0].database)\n",
    "\n",
    "print(db)\n",
    "db_id = db.insert_one(job, immutable=['hash', 'db_id'])\n",
    "job.db_id = db_id\n",
    "job.status = 'UNKNOWN'\n",
    "print(f'Inserted job with db_id: {db_id}')\n",
    "db.update_one(entry=job, db_id=db_id)\n",
    "print(db[db_id])\n",
    "\n",
    "dir(db)"
   ]
  },
  {
   "cell_type": "code",
   "execution_count": null,
   "id": "05e4d27b",
   "metadata": {},
   "outputs": [],
   "source": []
  },
  {
   "cell_type": "code",
   "execution_count": null,
   "id": "d3087550",
   "metadata": {},
   "outputs": [],
   "source": [
    "dir(rs2.logger)"
   ]
  },
  {
   "cell_type": "code",
   "execution_count": null,
   "id": "0dbb04fc",
   "metadata": {},
   "outputs": [],
   "source": []
  }
 ],
 "metadata": {
  "kernelspec": {
   "display_name": "base",
   "language": "python",
   "name": "python3"
  },
  "language_info": {
   "codemirror_mode": {
    "name": "ipython",
    "version": 3
   },
   "file_extension": ".py",
   "mimetype": "text/x-python",
   "name": "python",
   "nbconvert_exporter": "python",
   "pygments_lexer": "ipython3",
   "version": "3.11.5"
  }
 },
 "nbformat": 4,
 "nbformat_minor": 5
}
