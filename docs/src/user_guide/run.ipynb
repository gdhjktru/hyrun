{
 "cells": [
  {
   "cell_type": "code",
   "execution_count": 1,
   "id": "f1fb6ecb",
   "metadata": {},
   "outputs": [],
   "source": [
    "from hyrun import run\n",
    "\n",
    "from hyset.v2 import convert_compute_settings\n",
    "from hyset import create_compute_settings as ccs\n",
    "from hyif import Xtb\n",
    "from hyobj import Molecule\n",
    "\n",
    "\n",
    "\n"
   ]
  },
  {
   "cell_type": "code",
   "execution_count": 2,
   "id": "256b27cb",
   "metadata": {},
   "outputs": [
    {
     "name": "stdout",
     "output_type": "stream",
     "text": [
      "hyset_1 - ERROR : Memory per CPU not set in compute settings.\n",
      "hyset_1 - ERROR : Memory per CPU not set in compute settings.\n",
      "hyset_1 - ERROR : Memory per CPU not set in compute settings.\n",
      "hyset_1 - ERROR : Memory per CPU not set in compute settings.\n",
      "hyset_1 - ERROR : Memory per CPU not set in compute settings.\n"
     ]
    }
   ],
   "source": [
    "mol = Molecule('O')\n",
    "cs = ccs()\n",
    "cs2 = convert_compute_settings(cs)\n",
    "cs2.database = {'database_name': 'test.db'}\n",
    "xtb = Xtb(compute_settings=cs2)\n",
    "rs2 = xtb.setup(mol)\n",
    "\n"
   ]
  },
  {
   "cell_type": "code",
   "execution_count": 9,
   "id": "820bd242",
   "metadata": {},
   "outputs": [
    {
     "name": "stdout",
     "output_type": "stream",
     "text": [
      "Job(job_id=None, db_id=None, job_script=File(name='job.sh', content='ls -l\\n', path=None, host=None, folder=None), status=None, hash='42afb8ea00b8c448e470cd574c14faa8ed8b0d2a37984f9d624238cc22282b1c', metadata={}, tasks=[RunSettings(output_file=File(name = 4baa4779b70d7b21e8c85f02771520ff8a9abd86f58d477f1eccb8a8f1ff32f7.out, file_type = out, content = None, variables = {}, folder = None, path = 4baa4779b70d7b21e8c85f02771520ff8a9abd86f58d477f1eccb8a8f1ff32f7.out, subfolder = None), stdout_file=File(name = 4baa4779b70d7b21e8c85f02771520ff8a9abd86f58d477f1eccb8a8f1ff32f7.out, file_type = out, content = None, variables = {}, folder = None, path = 4baa4779b70d7b21e8c85f02771520ff8a9abd86f58d477f1eccb8a8f1ff32f7.out, subfolder = None), stderr_file=File(name = 4baa4779b70d7b21e8c85f02771520ff8a9abd86f58d477f1eccb8a8f1ff32f7.stderr, file_type = stderr, content = None, variables = {}, folder = None, path = 4baa4779b70d7b21e8c85f02771520ff8a9abd86f58d477f1eccb8a8f1ff32f7.stderr, subfolder = None), stdin_file=None, files_to_write=[File(name = 4baa4779b70d7b21e8c85f02771520ff8a9abd86f58d477f1eccb8a8f1ff32f7.xyz, file_type = xyz, content = 3\n",
      "\n",
      "O -0.000816000000 0.366378000000 -0.000000000000\n",
      "H -0.812316000000 -0.183482000000 -0.000000000000\n",
      "H 0.813132000000 -0.182896000000 0.000000000000\n",
      ", variables = {}, folder = None, path = 4baa4779b70d7b21e8c85f02771520ff8a9abd86f58d477f1eccb8a8f1ff32f7.xyz, subfolder = None)], files_for_restarting=[File(name = xtbrestart, file_type = , content = None, variables = {}, folder = None, path = xtbrestart, subfolder = None)], files_to_rename=[], files_to_parse=[], files_to_remove=[], files_to_zip=[], files_to_tar=[], files_to_send=[], files_not_to_transfer=[], data_files=[], tar_all_files=False, zip_all_files=False, use_relative_paths=None, overwrite_files=False, conda_env=None, conda_launcher=[], container_image=None, container_executable=None, container_mounts=None, container_type=None, container_launcher=[], container_args=[], work_dir_container=None, work_dir_local=PosixPath('/Users/tilmann/Documents/Documents/work/hylleraas/hyrun/docs/src/user_guide'), scratch_dir_local=PosixPath('/Users/tilmann/Documents/Documents/work/hylleraas/hyrun/docs/src/user_guide'), data_dir_local=PosixPath('/Users/tilmann/Documents/Documents/work/hylleraas/hyrun/docs/src/user_guide'), submit_dir_local=PosixPath('/Users/tilmann/Documents/Documents/work/hylleraas/hyrun/docs/src/user_guide'), work_dir_remote=None, submit_dir_remote=None, data_dir_remote=None, sub_dir=None, output_folder='4baa4779b70d7b21e8c85f02771520ff8a9abd86f58d477f1eccb8a8f1ff32f7', shell_setup=[], env_vars={'OMP_NUM_THREADS': '$SLURM_CPUS_PER_TASK'}, add_to_path=[], add_to_ld_library_path=[], ntasks=1, ntasks_per_node=None, cpus_per_task=1, memory_per_cpu=None, job_time=datetime.timedelta(0), job_name=None, program='xtb', launcher=[], args=['4baa4779b70d7b21e8c85f02771520ff8a9abd86f58d477f1eccb8a8f1ff32f7.xyz'], restart=False, output_type=None, dry_run=None, force_recompute=None, wait=None, post_cmd=None, pre_cmd=None, arch_type='remote', version='2.0.0', connection=ComputeSettingsConnection(host=None, user=None, port=None, config=None, gateway=None, forward_agent=None, connect_timeout=None, connect_kwargs={}, inline_ssh_env=None, auto_connect=True, max_connect_attempts=5, two_factor=False, ssh_socket_path=None, progress_bar=True, connection_type='ssh_fabric', ssh_key_path=None, file_transport='rsync'), scheduler=ComputeSettingsScheduler(scheduler_type='local', scheduler_launcher=[''], slurm_account='nn4654k', modules=[], job_name=None, qos_devel=False, create_symlinks=True, slurm_extra=[]), database=ComputeSettingsDatabase(database_name='test.db', database_type='python', database_opt={}), logger=<Logger hyset_1 (ERROR)>)], outputs=[])\n",
      "DatabasePython(database_path=/Users/tilmann/.hylleraas/test.json, database_name=test, storage_type=json)\n",
      "Inserted job with db_id: 1\n",
      "{'job_id': None, 'db_id': 1, 'job_script': {'name': 'job.sh', 'content': 'ls -l\\n', 'path': None, 'host': None, 'folder': None}, 'status': 'UNKNOWN', 'hash': '42afb8ea00b8c448e470cd574c14faa8ed8b0d2a37984f9d624238cc22282b1c', 'metadata': {}, 'tasks': [{'output_file': {'handler': None, 'name': '4baa4779b70d7b21e8c85f02771520ff8a9abd86f58d477f1eccb8a8f1ff32f7.out', 'file_type': 'out', 'content': None, 'variables': {}, 'folder': None, 'path': '4baa4779b70d7b21e8c85f02771520ff8a9abd86f58d477f1eccb8a8f1ff32f7.out', 'subfolder': None}, 'stdout_file': {'handler': None, 'name': '4baa4779b70d7b21e8c85f02771520ff8a9abd86f58d477f1eccb8a8f1ff32f7.out', 'file_type': 'out', 'content': None, 'variables': {}, 'folder': None, 'path': '4baa4779b70d7b21e8c85f02771520ff8a9abd86f58d477f1eccb8a8f1ff32f7.out', 'subfolder': None}, 'stderr_file': {'handler': None, 'name': '4baa4779b70d7b21e8c85f02771520ff8a9abd86f58d477f1eccb8a8f1ff32f7.stderr', 'file_type': 'stderr', 'content': None, 'variables': {}, 'folder': None, 'path': '4baa4779b70d7b21e8c85f02771520ff8a9abd86f58d477f1eccb8a8f1ff32f7.stderr', 'subfolder': None}, 'stdin_file': None, 'files_to_write': [{'handler': None, 'name': '4baa4779b70d7b21e8c85f02771520ff8a9abd86f58d477f1eccb8a8f1ff32f7.xyz', 'file_type': 'xyz', 'content': '3\\n\\nO -0.000816000000 0.366378000000 -0.000000000000\\nH -0.812316000000 -0.183482000000 -0.000000000000\\nH 0.813132000000 -0.182896000000 0.000000000000\\n', 'variables': {}, 'folder': None, 'path': '4baa4779b70d7b21e8c85f02771520ff8a9abd86f58d477f1eccb8a8f1ff32f7.xyz', 'subfolder': None}], 'files_for_restarting': [{'handler': None, 'name': 'xtbrestart', 'file_type': '', 'content': None, 'variables': {}, 'folder': None, 'path': 'xtbrestart', 'subfolder': None}], 'files_to_rename': [], 'files_to_parse': [], 'files_to_remove': [], 'files_to_zip': [], 'files_to_tar': [], 'files_to_send': [], 'files_not_to_transfer': [], 'data_files': [], 'tar_all_files': False, 'zip_all_files': False, 'use_relative_paths': None, 'overwrite_files': False, 'conda_env': None, 'conda_launcher': [], 'container_image': None, 'container_executable': None, 'container_mounts': None, 'container_type': None, 'container_launcher': [], 'container_args': [], 'work_dir_container': None, 'work_dir_local': '/Users/tilmann/Documents/Documents/work/hylleraas/hyrun/docs/src/user_guide', 'scratch_dir_local': '/Users/tilmann/Documents/Documents/work/hylleraas/hyrun/docs/src/user_guide', 'data_dir_local': '/Users/tilmann/Documents/Documents/work/hylleraas/hyrun/docs/src/user_guide', 'submit_dir_local': '/Users/tilmann/Documents/Documents/work/hylleraas/hyrun/docs/src/user_guide', 'work_dir_remote': None, 'submit_dir_remote': None, 'data_dir_remote': None, 'sub_dir': None, 'output_folder': '4baa4779b70d7b21e8c85f02771520ff8a9abd86f58d477f1eccb8a8f1ff32f7', 'shell_setup': [], 'env_vars': {'OMP_NUM_THREADS': '$SLURM_CPUS_PER_TASK'}, 'add_to_path': [], 'add_to_ld_library_path': [], 'ntasks': 1, 'ntasks_per_node': None, 'cpus_per_task': 1, 'memory_per_cpu': None, 'job_time': {'days': 0, 'microseconds': 0, 'seconds': 0, '__class__': 'timedelta', '__module__': 'datetime'}, 'job_name': None, 'program': 'xtb', 'launcher': [], 'args': ['4baa4779b70d7b21e8c85f02771520ff8a9abd86f58d477f1eccb8a8f1ff32f7.xyz'], 'restart': False, 'output_type': None, 'dry_run': None, 'force_recompute': None, 'wait': None, 'post_cmd': None, 'pre_cmd': None, '_run_settings': None, 'arch_type': 'remote', 'version': '2.0.0', 'connection': {'host': None, 'user': None, 'port': None, 'config': None, 'gateway': None, 'forward_agent': None, 'connect_timeout': None, 'connect_kwargs': {}, 'inline_ssh_env': None, 'auto_connect': True, 'max_connect_attempts': 5, 'two_factor': False, 'ssh_socket_path': None, 'progress_bar': True, 'connection_type': 'ssh_fabric', 'ssh_key_path': None, 'file_transport': 'rsync'}, 'scheduler': {'scheduler_type': 'local', 'scheduler_launcher': [''], 'slurm_account': 'nn4654k', 'modules': [], 'job_name': None, 'qos_devel': False, 'create_symlinks': True, 'slurm_extra': []}, 'database': {'database_name': 'test.db', 'database_type': 'python', 'database_opt': {}}, 'logger': {}}], 'outputs': [], '__class__': 'Job', '__module__': 'hyrun.job.job'}\n"
     ]
    }
   ],
   "source": [
    "from hyrun.job import Job\n",
    "job = Job(tasks=[rs2])\n",
    "from hytools.file import File\n",
    "from hydb import get_database\n",
    "job.job_script = File(name='job.sh', content='ls -l\\n')\n",
    "job.set_hash()\n",
    "print(job)\n",
    "db = get_database(job.tasks[0].database)\n",
    "print(db)\n",
    "db_id = db.insert_one(job, immutable=['hash', 'db_id'])\n",
    "job.db_id = db_id\n",
    "job.status = 'UNKNOWN'\n",
    "print(f'Inserted job with db_id: {db_id}')\n",
    "db.update_one(entry=job, db_id=db_id)\n",
    "print(db[db_id])"
   ]
  },
  {
   "cell_type": "code",
   "execution_count": null,
   "id": "05e4d27b",
   "metadata": {},
   "outputs": [],
   "source": []
  },
  {
   "cell_type": "code",
   "execution_count": 4,
   "id": "d3087550",
   "metadata": {},
   "outputs": [
    {
     "data": {
      "text/plain": [
       "['__class__',\n",
       " '__delattr__',\n",
       " '__dict__',\n",
       " '__dir__',\n",
       " '__doc__',\n",
       " '__eq__',\n",
       " '__format__',\n",
       " '__ge__',\n",
       " '__getattribute__',\n",
       " '__getstate__',\n",
       " '__gt__',\n",
       " '__hash__',\n",
       " '__init__',\n",
       " '__init_subclass__',\n",
       " '__le__',\n",
       " '__lt__',\n",
       " '__module__',\n",
       " '__ne__',\n",
       " '__new__',\n",
       " '__reduce__',\n",
       " '__reduce_ex__',\n",
       " '__repr__',\n",
       " '__setattr__',\n",
       " '__sizeof__',\n",
       " '__str__',\n",
       " '__subclasshook__',\n",
       " '__weakref__',\n",
       " '_cache',\n",
       " '_log',\n",
       " 'addFilter',\n",
       " 'addHandler',\n",
       " 'callHandlers',\n",
       " 'critical',\n",
       " 'debug',\n",
       " 'disabled',\n",
       " 'error',\n",
       " 'exception',\n",
       " 'fatal',\n",
       " 'filter',\n",
       " 'filters',\n",
       " 'findCaller',\n",
       " 'getChild',\n",
       " 'getEffectiveLevel',\n",
       " 'handle',\n",
       " 'handlers',\n",
       " 'hasHandlers',\n",
       " 'info',\n",
       " 'isEnabledFor',\n",
       " 'level',\n",
       " 'log',\n",
       " 'makeRecord',\n",
       " 'manager',\n",
       " 'name',\n",
       " 'parent',\n",
       " 'propagate',\n",
       " 'removeFilter',\n",
       " 'removeHandler',\n",
       " 'root',\n",
       " 'setLevel',\n",
       " 'warn',\n",
       " 'warning']"
      ]
     },
     "execution_count": 4,
     "metadata": {},
     "output_type": "execute_result"
    }
   ],
   "source": [
    "dir(rs2.logger)"
   ]
  },
  {
   "cell_type": "code",
   "execution_count": null,
   "id": "0dbb04fc",
   "metadata": {},
   "outputs": [],
   "source": []
  }
 ],
 "metadata": {
  "kernelspec": {
   "display_name": "base",
   "language": "python",
   "name": "python3"
  },
  "language_info": {
   "codemirror_mode": {
    "name": "ipython",
    "version": 3
   },
   "file_extension": ".py",
   "mimetype": "text/x-python",
   "name": "python",
   "nbconvert_exporter": "python",
   "pygments_lexer": "ipython3",
   "version": "3.11.5"
  }
 },
 "nbformat": 4,
 "nbformat_minor": 5
}
