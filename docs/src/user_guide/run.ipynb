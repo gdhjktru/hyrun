{
 "cells": [
  {
   "cell_type": "code",
   "execution_count": null,
   "id": "f1fb6ecb",
   "metadata": {},
   "outputs": [],
   "source": [
    "from hyrun import run\n",
    "\n",
    "from hyset.v2 import convert_compute_settings\n",
    "from hyset import create_compute_settings as ccs\n",
    "from hyif import Xtb\n",
    "from hyobj import Molecule\n",
    "\n",
    "\n",
    "\n"
   ]
  },
  {
   "cell_type": "markdown",
   "id": "5b00a33a",
   "metadata": {},
   "source": [
    "testing connection, scheduler and database separately"
   ]
  },
  {
   "cell_type": "code",
   "execution_count": 8,
   "id": "12fb0105",
   "metadata": {},
   "outputs": [
    {
     "name": "stdout",
     "output_type": "stream",
     "text": [
      "hyset_1 - ERROR : Memory per CPU not set in compute settings.\n",
      "<class 'hyset.base.scheduler.ComputeSettingsScheduler'> <class 'hyrun.scheduler.slurm.slurm.SlurmScheduler'>\n",
      "#!/bin/bash\n",
      "#SBATCH --job-name=hyrun_job\n",
      "#SBATCH --time=0-00:00:00\n",
      "#SBATCH --cpus-per-task=1\n",
      "#SBATCH --ntasks=1\n",
      "#SBATCH --account=test_account\n",
      "#SBATCH --output=/tmp/submit/hyrun_job.out\n",
      "#SBATCH --error=/tmp/submit/hyrun_job.err\n",
      "\n",
      "set -o errexit\n",
      "\n",
      "set -x\n",
      "\n",
      "# Run job no. 0\n",
      "export SCRATCH=\"/tmp/work/${SLURM_JOB_ID}\"\n",
      "mkdir -p ${SCRATCH}\n",
      "cd ${SCRATCH}\n",
      " xtb --gfn 2 >> stdout.out 2>> stderr.out\n",
      "\n",
      "\n"
     ]
    }
   ],
   "source": [
    "from hyrun.scheduler import get_scheduler\n",
    "from hyset.base import ComputeSettingsScheduler\n",
    "from dataclasses import asdict\n",
    "from hyset.v2 import RunSettings\n",
    "from hyrun.job import get_job\n",
    "\n",
    "# slurm scheduler test\n",
    "cs = ComputeSettingsScheduler(scheduler_type='slurm',\n",
    "                              slurm_account='test_account',\n",
    "                              )\n",
    "scheduler = get_scheduler(**asdict(cs))\n",
    "rs = RunSettings(work_dir_remote='/tmp/work',\n",
    "                    data_dir_remote='/tmp/data',\n",
    "                 submit_dir_remote='/tmp/submit',)\n",
    "rs.program = 'xtb'\n",
    "rs.args= ['--gfn', '2']\n",
    "rs.scheduler = cs\n",
    "job = get_job(rs)\n",
    "print(type(job.tasks[0].scheduler), type(scheduler))\n",
    "cmd = scheduler.gen_job_script(job)\n",
    "print(cmd)\n",
    "assert '#SBATCH --account=test_account' in cmd\n"
   ]
  },
  {
   "cell_type": "code",
   "execution_count": null,
   "id": "7ad88324",
   "metadata": {},
   "outputs": [],
   "source": [
    "\n",
    "\n",
    "# local scheduler test\n",
    "cs = ComputeSettingsScheduler(scheduler_type='local')\n",
    "scheduler = get_scheduler(**asdict(cs))\n",
    "rs = RunSettings()\n",
    "rs.program = 'xtb'\n",
    "rs.args= ['--gfn', '2']\n",
    "job = get_job(rs)\n",
    "cmd = scheduler.gen_job_script(job)\n",
    "assert cmd == 'xtb --gfn 2'\n"
   ]
  },
  {
   "cell_type": "code",
   "execution_count": null,
   "id": "039ef0f7",
   "metadata": {},
   "outputs": [],
   "source": []
  },
  {
   "cell_type": "code",
   "execution_count": null,
   "id": "256b27cb",
   "metadata": {},
   "outputs": [],
   "source": [
    "mol = Molecule('O')\n",
    "cs = ccs()\n",
    "cs2 = convert_compute_settings(cs)\n",
    "cs2.database = {'database_name': 'test.db'}\n",
    "xtb = Xtb(compute_settings=cs2)\n",
    "rs2 = xtb.setup(mol)\n",
    "\n"
   ]
  },
  {
   "cell_type": "code",
   "execution_count": null,
   "id": "820bd242",
   "metadata": {},
   "outputs": [],
   "source": [
    "from hyrun.job import Job\n",
    "job = Job(tasks=[rs2])\n",
    "from hytools.file import File\n",
    "from hydb import get_database\n",
    "job.job_script = File(name='job.sh', content='ls -l\\n')\n",
    "job.set_hash()\n",
    "print(job)\n",
    "db = get_database(job.tasks[0].database)\n",
    "\n",
    "print(db)\n",
    "db_id = db.insert_one(job, immutable=['hash', 'db_id'])\n",
    "job.db_id = db_id\n",
    "job.status = 'UNKNOWN'\n",
    "print(f'Inserted job with db_id: {db_id}')\n",
    "db.update_one(entry=job, db_id=db_id)\n",
    "print(db[db_id])\n",
    "\n",
    "dir(db)"
   ]
  },
  {
   "cell_type": "code",
   "execution_count": null,
   "id": "05e4d27b",
   "metadata": {},
   "outputs": [],
   "source": []
  },
  {
   "cell_type": "code",
   "execution_count": null,
   "id": "d3087550",
   "metadata": {},
   "outputs": [],
   "source": [
    "dir(rs2.logger)"
   ]
  },
  {
   "cell_type": "code",
   "execution_count": null,
   "id": "0dbb04fc",
   "metadata": {},
   "outputs": [],
   "source": []
  }
 ],
 "metadata": {
  "kernelspec": {
   "display_name": "base",
   "language": "python",
   "name": "python3"
  },
  "language_info": {
   "codemirror_mode": {
    "name": "ipython",
    "version": 3
   },
   "file_extension": ".py",
   "mimetype": "text/x-python",
   "name": "python",
   "nbconvert_exporter": "python",
   "pygments_lexer": "ipython3",
   "version": "3.11.5"
  }
 },
 "nbformat": 4,
 "nbformat_minor": 5
}
