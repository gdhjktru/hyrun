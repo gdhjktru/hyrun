{
 "cells": [
  {
   "cell_type": "markdown",
   "id": "f2ba5b2d",
   "metadata": {},
   "source": [
    "# Job\n",
    "\n",
    "A `hyrun.job` is a list of tasks (represented by `hyset.RunSettings`), (optionally) a list of outputs objects (represented by `hyrun.Result`) together with further information about the job:\n",
    "\n",
    "- `hash` : hash for identifying the job\n",
    "- `job_id` : the submission if of the job\n",
    "- `status`: status of the job (as defined by slurm)\n",
    "- `job_script`: `hytools.file.File` instance defining commands that are send to the scheduler for execution\n",
    "- `metadata`: a dictionary containing further attributes, e.g., wall time\n",
    "\n"
   ]
  },
  {
   "cell_type": "code",
   "execution_count": 1,
   "id": "80d6c26f",
   "metadata": {},
   "outputs": [],
   "source": [
    "from hyrun import Job\n"
   ]
  },
  {
   "cell_type": "code",
   "execution_count": 2,
   "id": "516c1e52",
   "metadata": {},
   "outputs": [
    {
     "ename": "ImportError",
     "evalue": "cannot import name 'RunSettings' from 'hyset.v2.run_settings' (/Users/tilmann/anaconda3/lib/python3.11/site-packages/hyset/v2/run_settings.py)",
     "output_type": "error",
     "traceback": [
      "\u001b[0;31m---------------------------------------------------------------------------\u001b[0m",
      "\u001b[0;31mImportError\u001b[0m                               Traceback (most recent call last)",
      "Cell \u001b[0;32mIn[2], line 1\u001b[0m\n\u001b[0;32m----> 1\u001b[0m \u001b[38;5;28;01mfrom\u001b[39;00m\u001b[38;5;250m \u001b[39m\u001b[38;5;21;01mhyset\u001b[39;00m\u001b[38;5;21;01m.\u001b[39;00m\u001b[38;5;21;01mv2\u001b[39;00m\u001b[38;5;250m \u001b[39m\u001b[38;5;28;01mimport\u001b[39;00m ComputeSettings\n\u001b[1;32m      3\u001b[0m cs \u001b[38;5;241m=\u001b[39m ComputeSettings()\n\u001b[1;32m      5\u001b[0m \u001b[38;5;28mprint\u001b[39m(cs)\n",
      "File \u001b[0;32m~/anaconda3/lib/python3.11/site-packages/hyset/v2/__init__.py:2\u001b[0m\n\u001b[1;32m      1\u001b[0m \u001b[38;5;28;01mfrom\u001b[39;00m\u001b[38;5;250m \u001b[39m\u001b[38;5;21;01m.\u001b[39;00m\u001b[38;5;21;01mcompute_settings\u001b[39;00m\u001b[38;5;250m \u001b[39m\u001b[38;5;28;01mimport\u001b[39;00m ComputeSettings\n\u001b[0;32m----> 2\u001b[0m \u001b[38;5;28;01mfrom\u001b[39;00m\u001b[38;5;250m \u001b[39m\u001b[38;5;21;01m.\u001b[39;00m\u001b[38;5;21;01mrun_settings\u001b[39;00m\u001b[38;5;250m \u001b[39m\u001b[38;5;28;01mimport\u001b[39;00m RunSettings\n\u001b[1;32m      4\u001b[0m __all__ \u001b[38;5;241m=\u001b[39m [\u001b[38;5;124m'\u001b[39m\u001b[38;5;124mComputeSettings\u001b[39m\u001b[38;5;124m'\u001b[39m, \u001b[38;5;124m'\u001b[39m\u001b[38;5;124mRunSettings\u001b[39m\u001b[38;5;124m'\u001b[39m]\n",
      "\u001b[0;31mImportError\u001b[0m: cannot import name 'RunSettings' from 'hyset.v2.run_settings' (/Users/tilmann/anaconda3/lib/python3.11/site-packages/hyset/v2/run_settings.py)"
     ]
    }
   ],
   "source": [
    "from hyset.v2 import ComputeSettings\n",
    "\n",
    "cs = ComputeSettings()\n",
    "\n",
    "print(cs)"
   ]
  },
  {
   "cell_type": "markdown",
   "id": "c606b325",
   "metadata": {},
   "source": [
    "# Multiple tasks\n",
    "\n",
    "A job can have multiple tasks, i.e. calculations performed within the same job script. They are identified by the inner part of a list of lists:\n"
   ]
  },
  {
   "cell_type": "code",
   "execution_count": null,
   "id": "b1ad032c",
   "metadata": {},
   "outputs": [],
   "source": [
    "[x] = [[x]]\n",
    "[x, y, z] == [[x], [y], [z]]"
   ]
  },
  {
   "cell_type": "markdown",
   "id": "edc9bca9",
   "metadata": {},
   "source": [
    "# Database"
   ]
  }
 ],
 "metadata": {
  "kernelspec": {
   "display_name": "Python 3 (ipykernel)",
   "language": "python",
   "name": "python3"
  },
  "language_info": {
   "codemirror_mode": {
    "name": "ipython",
    "version": 3
   },
   "file_extension": ".py",
   "mimetype": "text/x-python",
   "name": "python",
   "nbconvert_exporter": "python",
   "pygments_lexer": "ipython3",
   "version": "3.11.5"
  }
 },
 "nbformat": 4,
 "nbformat_minor": 5
}
