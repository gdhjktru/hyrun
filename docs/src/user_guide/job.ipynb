{
 "cells": [
  {
   "cell_type": "markdown",
   "id": "77dbc91c",
   "metadata": {},
   "source": [
    "# Job\n",
    "\n",
    "A `hyrun.job` is a list of tasks (represented by `hyset.RunSettings`), (optionally) a list of outputs objects (represented by `hyrun.Result`) together with further information about the job:\n",
    "\n",
    "- `hash` : hash for identifying the job\n",
    "- `job_id` : the submission if of the job\n",
    "- `status`: status of the job (as defined by slurm)\n",
    "- `job_script`: `hytools.file.File` instance defining commands that are send to the scheduler for execution\n",
    "- `metadata`: a dictionary containing further attributes, e.g., wall time\n",
    "\n"
   ]
  },
  {
   "cell_type": "code",
   "execution_count": 1,
   "id": "1e67f085",
   "metadata": {},
   "outputs": [],
   "source": [
    "from hyrun import Job\n"
   ]
  },
  {
   "cell_type": "markdown",
   "id": "b1dfec92",
   "metadata": {},
   "source": [
    "Jobs are typically initiated from (a list of) `hyset.RunSettings`, which represent the tasks of a job.\n",
    "Most of the other parameters, such as `job_script`  an `hash` are constructed during `hyrun.init()`.\n",
    "The `job_id` is available once the job has been submitted"
   ]
  },
  {
   "cell_type": "code",
   "execution_count": 11,
   "id": "35826a45",
   "metadata": {},
   "outputs": [
    {
     "name": "stdout",
     "output_type": "stream",
     "text": [
      "hyset_1 - ERROR : Memory per CPU not set in compute settings.\n",
      "Job(job_id=None, job_script=None, status=None, hash=None, metadata={'name': 'myjob'}, tasks=[RunSettings(output_file=None, stdout_file=File(name='stdout.out', content=None, path=PosixPath('stdout.out'), host=None, folder=PosixPath('.')), stderr_file=File(name='stderr.out', content=None, path=PosixPath('stderr.out'), host=None, folder=PosixPath('.')), stdin_file=None, files_to_write=[], files_for_restarting=[], files_to_rename=[], files_to_parse=[], files_to_remove=[], files_to_zip=[], files_to_tar=[], files_to_send=[], files_not_to_transfer=[], data_files=[], tar_all_files=False, zip_all_files=False, use_relative_paths=None, overwrite_files=False, conda_env=None, conda_launcher=[], container_image=None, container_executable=None, container_mounts=None, container_type=None, container_launcher=[], container_args=[], work_dir_container=None, work_dir_local=PosixPath('/Users/tilmann/Documents/Documents/work/hylleraas/hyrun/docs/src/user_guide'), scratch_dir_local=PosixPath('/Users/tilmann/Documents/Documents/work/hylleraas/hyrun/docs/src/user_guide'), data_dir_local=PosixPath('/Users/tilmann/Documents/Documents/work/hylleraas/hyrun/docs/src/user_guide'), submit_dir_local=PosixPath('/Users/tilmann/Documents/Documents/work/hylleraas/hyrun/docs/src/user_guide'), work_dir_remote=None, submit_dir_remote=None, data_dir_remote=None, sub_dir=None, output_folder=None, shell_setup=[], env_vars={'OMP_NUM_THREADS': '$SLURM_CPUS_PER_TASK'}, add_to_path=[], add_to_ld_library_path=[], print_level=None, log_file=None, logger=<Logger hyset_1 (ERROR)>, ntasks=1, ntasks_per_node=None, cpus_per_task=1, memory_per_cpu=None, job_time=datetime.timedelta(0), job_name=None, program=None, launcher=[], args=[], restart=False, output_type=None, dry_run=None, force_recompute=None, wait=None, post_cmd=None, pre_cmd=None, arch_type='remote', connection=ComputeSettingsConnection(host=None, user=None, port=None, config=None, gateway=None, forward_agent=None, connect_timeout=None, connect_kwargs={}, inline_ssh_env=None, auto_connect=True, max_connect_attempts=5, two_factor=False, ssh_socket_path=None, progress_bar=True, connection_type='ssh_fabric', ssh_key_path=None, file_transport='rsync'), scheduler=ComputeSettingsScheduler(scheduler_type='local', scheduler_launcher=[], slurm_account='nn4654k', modules=[], job_name=None, qos_devel=False, create_symlinks=True, slurm_extra=[]), database=ComputeSettingsDatabase(database_name=None, database_type=None, database_opt={}))], outputs=[])\n"
     ]
    }
   ],
   "source": [
    "from hyset.v2 import RunSettings\n",
    "job = Job(tasks=RunSettings(), metadata={'name': 'myjob'})\n",
    "print(job)\n",
    "\n"
   ]
  },
  {
   "cell_type": "markdown",
   "id": "5425dec4",
   "metadata": {},
   "source": [
    "## Multiple tasks\n",
    "\n",
    "A job can have multiple tasks, i.e. calculations performed consecutively within the same job script:\n"
   ]
  },
  {
   "cell_type": "code",
   "execution_count": 9,
   "id": "98f103bb",
   "metadata": {},
   "outputs": [
    {
     "name": "stdout",
     "output_type": "stream",
     "text": [
      "hyset_1 - ERROR : Memory per CPU not set in compute settings.\n"
     ]
    }
   ],
   "source": [
    "rs0 = RunSettings(connection={'host': 'host0'})\n",
    "job = Job(tasks=[rs0 for _ in range(3)])"
   ]
  },
  {
   "cell_type": "markdown",
   "id": "6cd039bd",
   "metadata": {},
   "source": [
    "Note, all tasks in a job have to have identical settings for \n",
    "\n",
    "1. connection\n",
    "2. scheduler\n",
    "3. database"
   ]
  },
  {
   "cell_type": "code",
   "execution_count": 7,
   "id": "03ada5bb",
   "metadata": {},
   "outputs": [
    {
     "name": "stdout",
     "output_type": "stream",
     "text": [
      "hyset_1 - ERROR : Memory per CPU not set in compute settings.\n",
      "tasks have different parameters\n"
     ]
    }
   ],
   "source": [
    "rs1 = RunSettings(connection={'host': 'host1'})\n",
    "try:\n",
    "    job = Job(tasks=[rs0, rs1])\n",
    "except ValueError:\n",
    "    print('tasks have different parameters')\n",
    "else:\n",
    "    print('all ok')\n"
   ]
  }
 ],
 "metadata": {
  "kernelspec": {
   "display_name": "Python 3 (ipykernel)",
   "language": "python",
   "name": "python3"
  },
  "language_info": {
   "codemirror_mode": {
    "name": "ipython",
    "version": 3
   },
   "file_extension": ".py",
   "mimetype": "text/x-python",
   "name": "python",
   "nbconvert_exporter": "python",
   "pygments_lexer": "ipython3",
   "version": "3.11.5"
  }
 },
 "nbformat": 4,
 "nbformat_minor": 5
}
