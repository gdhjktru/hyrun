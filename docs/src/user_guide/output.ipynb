{
 "cells": [
  {
   "cell_type": "markdown",
   "id": "29cc7cd1",
   "metadata": {},
   "source": [
    "# Output\n",
    "\n",
    "`hyrun.job.Output` is a dataclass containing information about the results of a calculation.\n",
    "The following attributes are accessible:\n",
    "\n",
    "- `files_to_parse`: a list of files to parse, e.g., by the `hyif` interface `parse()` function\n",
    "- `output_file`: path to the output file\n",
    "- `output_folder`: subdirectory relative to the current work directory where the output files are if not defined by `files_to_parse`\n",
    "- stdout: standard output (`str`) from the calculation\n",
    "- stderr: standard error (`str`) from the calculation\n",
    "- stdout_file: path to the file storing stdout\n",
    "- sterr_file: path to the file storing stderr\n",
    "- returncode: returncode of the calculation, equals zero if successful\n",
    "- error: errorcode of the calculation\n",
    "    \n",
    "    \n"
   ]
  },
  {
   "cell_type": "code",
   "execution_count": 3,
   "id": "09eadaec",
   "metadata": {},
   "outputs": [
    {
     "name": "stdout",
     "output_type": "stream",
     "text": [
      "Output(files_to_parse=None, output_file='test.out', output_folder=None, stdout=None, stderr=None, stdout_file=None, stderr_file=None, returncode=0, error=None)\n"
     ]
    }
   ],
   "source": [
    "from hyrun.job import Output\n",
    "\n",
    "output = Output(returncode=0,\n",
    "                output_file='test.out')\n",
    "\n",
    "print(output)\n",
    "assert output.returncode == 0"
   ]
  },
  {
   "cell_type": "code",
   "execution_count": null,
   "id": "70198941",
   "metadata": {},
   "outputs": [],
   "source": []
  }
 ],
 "metadata": {
  "kernelspec": {
   "display_name": "Python 3 (ipykernel)",
   "language": "python",
   "name": "python3"
  },
  "language_info": {
   "codemirror_mode": {
    "name": "ipython",
    "version": 3
   },
   "file_extension": ".py",
   "mimetype": "text/x-python",
   "name": "python",
   "nbconvert_exporter": "python",
   "pygments_lexer": "ipython3",
   "version": "3.11.5"
  }
 },
 "nbformat": 4,
 "nbformat_minor": 5
}
