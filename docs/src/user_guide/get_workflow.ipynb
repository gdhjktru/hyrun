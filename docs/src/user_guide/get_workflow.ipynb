{
 "cells": [
  {
   "cell_type": "markdown",
   "id": "8a3c563f",
   "metadata": {},
   "source": [
    "\n",
    "# init\n",
    "\n",
    "The `hyrun.init()` function is for constructing a `hyrun.JobGraph` from a user input. maybe it should be called get_graph???? or get _workflow\n",
    "\n"
   ]
  },
  {
   "cell_type": "code",
   "execution_count": 1,
   "id": "ea0813a4",
   "metadata": {},
   "outputs": [],
   "source": [
    "from hyrun.job import get_workflow as init\n",
    "from hyrun.job import Job\n",
    "from hyset.v2 import RunSettings"
   ]
  },
  {
   "cell_type": "code",
   "execution_count": 2,
   "id": "79c73df6",
   "metadata": {},
   "outputs": [
    {
     "name": "stdout",
     "output_type": "stream",
     "text": [
      "hyset - ERROR : Memory per CPU not set in compute settings.\n",
      "<class 'hyset.v2.run_settings.RunSettings'>\n",
      "╙── 0\n"
     ]
    }
   ],
   "source": [
    "rs = RunSettings()\n",
    "j = Job()\n",
    "print(type(rs))\n",
    "\n",
    "\n",
    "\n",
    "a=init(rs)\n",
    "print(a)"
   ]
  },
  {
   "cell_type": "code",
   "execution_count": 3,
   "id": "8349ef0c",
   "metadata": {},
   "outputs": [
    {
     "name": "stdout",
     "output_type": "stream",
     "text": [
      "╟── 0\n",
      "╙── 1\n",
      "╙── 0\n",
      "╟── 0\n",
      "╙── 1\n"
     ]
    }
   ],
   "source": [
    "a = init([rs, rs])\n",
    "print(a)\n",
    "\n",
    "a = init([[rs, rs]])\n",
    "print(a)\n",
    "\n",
    "a = init([[rs],[rs]])\n",
    "print(a)"
   ]
  },
  {
   "cell_type": "code",
   "execution_count": 4,
   "id": "3680cb39",
   "metadata": {},
   "outputs": [
    {
     "name": "stdout",
     "output_type": "stream",
     "text": [
      "╙── 0\n",
      "╟── 0\n",
      "╙── 1\n"
     ]
    }
   ],
   "source": [
    "a = init(j)\n",
    "print(a)\n",
    "a = init([j,j])\n",
    "print(a)"
   ]
  },
  {
   "cell_type": "code",
   "execution_count": 5,
   "id": "a2aba41e",
   "metadata": {},
   "outputs": [
    {
     "name": "stdout",
     "output_type": "stream",
     "text": [
      "╟── 0\n",
      "╙── 1\n"
     ]
    }
   ],
   "source": [
    "a = init([j,rs])\n",
    "print(a)"
   ]
  },
  {
   "cell_type": "code",
   "execution_count": 6,
   "id": "c15ff348",
   "metadata": {},
   "outputs": [
    {
     "name": "stdout",
     "output_type": "stream",
     "text": [
      "╟── 0\n",
      "╙── 1\n"
     ]
    }
   ],
   "source": [
    "a = init([j, [rs,rs]])\n",
    "print(a)"
   ]
  },
  {
   "cell_type": "code",
   "execution_count": 7,
   "id": "0747b294",
   "metadata": {},
   "outputs": [
    {
     "name": "stdout",
     "output_type": "stream",
     "text": [
      "╟── 0\n",
      "╙── 1\n"
     ]
    }
   ],
   "source": [
    "a = init([j,[j]])\n",
    "print(a)"
   ]
  },
  {
   "cell_type": "code",
   "execution_count": 8,
   "id": "33828acf",
   "metadata": {},
   "outputs": [
    {
     "name": "stdout",
     "output_type": "stream",
     "text": [
      "╟── 0\n",
      "╙── 1\n"
     ]
    }
   ],
   "source": [
    "a = init([j,[[j]]])\n",
    "print(a)"
   ]
  },
  {
   "cell_type": "code",
   "execution_count": null,
   "id": "7c2f766d",
   "metadata": {},
   "outputs": [],
   "source": []
  }
 ],
 "metadata": {
  "kernelspec": {
   "display_name": "Python 3 (ipykernel)",
   "language": "python",
   "name": "python3"
  },
  "language_info": {
   "codemirror_mode": {
    "name": "ipython",
    "version": 3
   },
   "file_extension": ".py",
   "mimetype": "text/x-python",
   "name": "python",
   "nbconvert_exporter": "python",
   "pygments_lexer": "ipython3",
   "version": "3.11.5"
  }
 },
 "nbformat": 4,
 "nbformat_minor": 5
}
