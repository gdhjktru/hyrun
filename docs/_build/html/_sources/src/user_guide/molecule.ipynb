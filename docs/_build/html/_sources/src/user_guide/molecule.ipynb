{
 "cells": [
  {
   "cell_type": "markdown",
   "id": "4b7a89fd",
   "metadata": {},
   "source": [
    "(molecule)=\n",
    "# Molecule\n",
    "The *Hylleraas Software Platform* `Molecule` object represents atoms or collections of atoms&mdash;not necessarily bound together (in the checmical sense).  It is a container for the atoms and their properties, used as input for the chemical calculations done on the platform. (((LINK TO METHODS SECTION HERE)))"
   ]
  },
  {
   "cell_type": "markdown",
   "id": "e6618b93",
   "metadata": {},
   "source": [
    "## Generating `Molecule` objects\n",
    "Molecule objects can be generated in a number of ways. The most common is to read in a file in a standard format. However, the *Hylleraas Software Platform* also supports various other ways of generating `Molecule` objects. \n",
    "\n",
    "- From **file** or **string** in a standard format\n",
    "    - `.mol`\n",
    "    - `.sdf`\n",
    "    - `.zmat`\n",
    "    - `.pdb`\n",
    "    - `.xyz`\n",
    "    - `.ase`\n",
    "- From a **list** of atoms and their properties\n",
    "- From a **dictionary** containing atoms and their coordinates\n",
    "- From a [SMILES](https://en.wikipedia.org/wiki/Simplified_molecular-input_line-entry_system) string\n",
    "- From a `Molecule` object in a different format"
   ]
  },
  {
   "cell_type": "code",
   "execution_count": 1,
   "id": "d5f33400",
   "metadata": {},
   "outputs": [],
   "source": [
    "import hylleraas as hsp"
   ]
  },
  {
   "cell_type": "markdown",
   "id": "f272e2b7",
   "metadata": {},
   "source": [
    "### Generating `Molecule` objects from files\n",
    "The `Molecule` object can be generated from a file in standard formats using the default `Molecule` constructor method. The file format is determined from the file extension. "
   ]
  },
  {
   "cell_type": "markdown",
   "id": "f23ed8ab",
   "metadata": {},
   "source": [
    "#### `.mol` files"
   ]
  },
  {
   "cell_type": "code",
   "execution_count": 34,
   "id": "af56b586",
   "metadata": {},
   "outputs": [],
   "source": [
    "# formaldehyde.mol\n",
    "# ======================================================================\n",
    "# Formaldehyde\n",
    "#  OpenBabel02212414223D\n",
    "# Example .mol input file\n",
    "#   4  3  0  0  0  0  0  0  0  0999 V2000\n",
    "#     0.9612   -0.0531   -0.0380 C   0  0  0  0  0  0  0  0  0  0  0  0\n",
    "#     2.1582   -0.0531   -0.0380 O   0  0  0  0  0  0  0  0  0  0  0  0\n",
    "#     0.4452   -0.8473    0.3719 H   0  0  0  0  0  0  0  0  0  0  0  0\n",
    "#     0.4452    0.7411   -0.4478 H   0  0  0  0  0  0  0  0  0  0  0  0\n",
    "#   1  2  2  0  0  0  0\n",
    "#   1  3  1  0  0  0  0\n",
    "#   1  4  1  0  0  0  0\n",
    "# M  END\n",
    "# ======================================================================\n",
    "formaldehyde = hsp.Molecule(\"formaldehyde.mol\")"
   ]
  },
  {
   "cell_type": "markdown",
   "id": "dd234789",
   "metadata": {},
   "source": [
    "#### `.sdf` files"
   ]
  },
  {
   "cell_type": "code",
   "execution_count": 2,
   "id": "7c4f566e",
   "metadata": {},
   "outputs": [
    {
     "name": "stderr",
     "output_type": "stream",
     "text": [
      "[13:45:47] Warning: molecule is tagged as 2D, but at least one Z coordinate is not zero. Marking the mol as 3D.\n"
     ]
    }
   ],
   "source": [
    "# water.sdf\n",
    "# =============================================================================\n",
    "# Water\n",
    "#   From https://www.molinstincts.com/sdf-mol-file/water-sdf-CT1000292221.html\n",
    "# Example .sfg input file\n",
    "#   3  2  0  0  0               999 V2000\n",
    "#     0.0021   -0.0041    0.0020 H   0  0  0  0  0  0  0  0  0  0  0  0\n",
    "#    -0.0110    0.9628    0.0073 O   0  0  0  0  0  0  0  0  0  0  0  0\n",
    "#     0.8669    1.3681    0.0011 H   0  0  0  0  0  0  0  0  0  0  0  0\n",
    "#   1  2  1  0  0  0  0\n",
    "#   2  3  1  0  0  0  0\n",
    "# M  END\n",
    "# $$$$\n",
    "# =============================================================================\n",
    "water = hsp.Molecule(\"water.sdf\")"
   ]
  },
  {
   "cell_type": "markdown",
   "id": "078440c6",
   "metadata": {},
   "source": [
    "#### `.zmat` files"
   ]
  },
  {
   "cell_type": "code",
   "execution_count": 39,
   "id": "734c6b23",
   "metadata": {},
   "outputs": [],
   "source": [
    "# methane.zmat\n",
    "# ========================================\n",
    "# C\n",
    "# H   1 1.089000\n",
    "# H   1 1.089000  2  109.4710\n",
    "# H   1 1.089000  2  109.4710  3  120.0000\n",
    "# H   1 1.089000  2  109.4710  3 -120.0000\n",
    "# ========================================\n",
    "methane = hsp.Molecule(\"methane.zmat\")"
   ]
  },
  {
   "cell_type": "markdown",
   "id": "8f8d0f8f",
   "metadata": {},
   "source": [
    "#### `.pdb` files"
   ]
  },
  {
   "cell_type": "code",
   "execution_count": 33,
   "id": "e59ba307",
   "metadata": {},
   "outputs": [],
   "source": [
    "# ethylene.pdb\n",
    "# ======================================================================\n",
    "# COMPND    Ethylene\n",
    "# AUTHOR    GENERATED BY OPEN BABEL 2.3.90\n",
    "# HETATM    1  C   UNL     1       1.066  -0.055  -0.065  1.00  0.00           C  \n",
    "# HETATM    2  C   UNL     1       2.398  -0.055  -0.065  1.00  0.00           C  \n",
    "# HETATM    3  H   UNL     1       0.550  -0.185  -0.949  1.00  0.00           H  \n",
    "# HETATM    4  H   UNL     1       0.550   0.076   0.819  1.00  0.00           H  \n",
    "# HETATM    5  H   UNL     1       2.914  -0.185  -0.949  1.00  0.00           H  \n",
    "# HETATM    6  H   UNL     1       2.914   0.076   0.819  1.00  0.00           H  \n",
    "# CONECT    1    2    3    4                                            \n",
    "# CONECT    2    1    5    6                                            \n",
    "# CONECT    3    1                                                      \n",
    "# CONECT    4    1                                                      \n",
    "# CONECT    5    2                                                      \n",
    "# CONECT    6    2                                                      \n",
    "# MASTER        0    0    0    0    0    0    0    0    6    0    6    0\n",
    "# END\n",
    "# ======================================================================\n",
    "ethylene = hsp.Molecule(\"ethylene.pdb\")"
   ]
  },
  {
   "cell_type": "markdown",
   "id": "fbad6330",
   "metadata": {},
   "source": [
    "#### `.xyz` files"
   ]
  },
  {
   "cell_type": "code",
   "execution_count": 35,
   "id": "cf2f3a7d",
   "metadata": {},
   "outputs": [],
   "source": [
    "# acetylene.xyz\n",
    "# ====================================\n",
    "# 4\n",
    "# acetylene\n",
    "# C     0.60106  0.00000  0.00000\n",
    "# C    -0.60106  0.00000  0.00000\n",
    "# H     1.66106  0.00000  0.00000\n",
    "# H    -1.66106  0.00000  0.00000\n",
    "# ====================================\n",
    "acetylene = hsp.Molecule(\"acetylene.xyz\")"
   ]
  },
  {
   "cell_type": "markdown",
   "id": "e2c78fc8",
   "metadata": {},
   "source": [
    "### Generating `Molecule` objects from atoms and coordinates\n",
    "The `Molecule` object can be generated from a collection of atoms and their coordinates using the default `Molecule` constructor method. The atoms and coordinates may be provided in a few different ways:\n",
    "\n",
    "#### A dictionary containing `\"atoms\"` and `\"coordinates\"` keys\n",
    "The relevant keys must be named `\"atoms\"` and `\"coordinates\"`. The atoms must be provided as a list of strings, and the coordinates must be provided as a list of lists of floats (length `[#of atoms][# of dimensions]`) or a 2D numpy array of dimensions `(#of atoms, #of dimensions)`. The atoms and coordinates must be in the same order. \n",
    "```python\n",
    "molecule_dict = {\n",
    "    \"atom\": List[str],\n",
    "    \"coordinates\": List[List[float]] or numpy.ndarray\n",
    "}\n",
    "```"
   ]
  },
  {
   "cell_type": "code",
   "execution_count": 38,
   "id": "dfac2a99",
   "metadata": {},
   "outputs": [],
   "source": [
    "formic_acid = hsp.Molecule(\n",
    "    {\n",
    "        \"atoms\": [\"O\", \"O\", \"C\", \"H\", \"H\"],\n",
    "        \"coordinates\": [\n",
    "            [-1.1685,  0.1825, 0.0000],\n",
    "            [ 1.1146,  0.2103, 0.0000],\n",
    "            [ 0.0538, -0.3927, 0.0000],\n",
    "            [-0.0511, -1.4875, 0.0000],\n",
    "            [-1.1142,  1.1620, 0.0000],\n",
    "        ]\n",
    "    }\n",
    ")"
   ]
  },
  {
   "cell_type": "markdown",
   "id": "5151d7a4",
   "metadata": {},
   "source": [
    "#### A nested of list of atoms and coordinates\n",
    "Molecules can be generated from a nested list of atoms and coordinates in two different formats.\n",
    "\n",
    "##### `.zmat`-like format\n",
    "The molecule list may be provided in a `.zmat`-like format with the nested list containing strings or strings and floats:\n",
    "```python\n",
    "molecule_list = [\n",
    "    [\"atom1\"],\n",
    "    [\"atom2\", \"reference distance atom\", \"distance\"],\n",
    "    [\"atom3\", \"reference distance atom\", \"distance\", \"reference angle atom\", \"angle\"],\n",
    "    [\"atom4\", \"reference distance atom\", \"distance\", \"reference angle atom\", \"angle\", \"reference dihedral atom\", \"dihedral\"]\n",
    "]\n",
    "```"
   ]
  },
  {
   "cell_type": "code",
   "execution_count": 41,
   "id": "afc6dea3",
   "metadata": {},
   "outputs": [],
   "source": [
    "\n",
    "chloromethane = hsp.Molecule(\n",
    "    [\n",
    "        [\"C\"],\n",
    "        [\"Cl\", 1, 1.7540],\n",
    "        [\"H\",  1, 1.0700, 2, 109.471],\n",
    "        [\"H\",  1, 1.0700, 2, 109.471, 3, 240.00],\n",
    "        [\"H\",  1, 1.0700, 2, 109.471, 3, 120.00],    \n",
    "    ]\n",
    ")"
   ]
  },
  {
   "cell_type": "markdown",
   "id": "c9c62c65",
   "metadata": {},
   "source": [
    "\n",
    "##### `.xyz`-like format\n",
    "The molecule list may also be provided in a `.xyz`-like format with the nested list containing strings and floats as either:\n",
    "```python\n",
    "molecule_list = [\n",
    "    [\"atom1\", x1, y1, z1],\n",
    "    [\"atom2\", x2, y2, z2],\n",
    "    [\"atom3\", x3, y3, z3],\n",
    "]\n",
    "```\n",
    "or in the format:\n",
    "```python\n",
    "molecule_list = [\n",
    "    [\"atom1\", \"atom2\", \"atom3\"], \n",
    "    [x1, y1, z1],\n",
    "    [x2, y2, z2],\n",
    "    [x3, y3, z3],\n",
    "]\n",
    "```"
   ]
  },
  {
   "cell_type": "code",
   "execution_count": 3,
   "id": "61760efe",
   "metadata": {},
   "outputs": [],
   "source": [
    "benzene = hsp.Molecule(\n",
    "    [\n",
    "        [\"H\",  1.2194, -0.1652,  2.1600],\n",
    "        [\"C\",  0.6825, -0.0924,  1.2087],\n",
    "        [\"C\", -0.7075, -0.0352,  1.1973],\n",
    "        [\"H\", -1.2644, -0.0630,  2.1393],\n",
    "        [\"C\", -1.3898,  0.0572, -0.0114],\n",
    "        [\"H\", -2.4836,  0.1021, -0.0204],\n",
    "        [\"C\", -0.6824,  0.0925, -1.2088],\n",
    "        [\"H\", -1.2194,  0.1652, -2.1599],\n",
    "        [\"C\",  0.7075,  0.0352, -1.1973],\n",
    "        [\"H\",  1.2641,  0.0628, -2.1395],\n",
    "        [\"C\",  1.3899, -0.0572,  0.0114],\n",
    "        [\"H\",  2.4836, -0.1022,  0.0205],\n",
    "    ]\n",
    ")"
   ]
  },
  {
   "cell_type": "markdown",
   "id": "5366d404",
   "metadata": {},
   "source": [
    "## Properties of `Molecule` objects"
   ]
  },
  {
   "cell_type": "markdown",
   "id": "2c40bb54",
   "metadata": {},
   "source": [
    "### `coordinates`"
   ]
  },
  {
   "cell_type": "markdown",
   "id": "2a13604f",
   "metadata": {},
   "source": [
    "### Units"
   ]
  },
  {
   "cell_type": "markdown",
   "id": "4793fc6d",
   "metadata": {},
   "source": []
  },
  {
   "cell_type": "code",
   "execution_count": null,
   "id": "f6ef6ac5",
   "metadata": {},
   "outputs": [],
   "source": []
  },
  {
   "cell_type": "markdown",
   "id": "3b25be62",
   "metadata": {},
   "source": [
    "## Operations on `Molecule` objects"
   ]
  },
  {
   "cell_type": "markdown",
   "id": "a5004c6c",
   "metadata": {},
   "source": [
    "### Units and conversions"
   ]
  },
  {
   "cell_type": "markdown",
   "id": "fd186c64",
   "metadata": {},
   "source": [
    "### Translations"
   ]
  },
  {
   "cell_type": "markdown",
   "id": "9b65cf9a",
   "metadata": {},
   "source": [
    "### Rotations"
   ]
  },
  {
   "cell_type": "markdown",
   "id": "3a94a755",
   "metadata": {},
   "source": [
    "### Indexing and slicing"
   ]
  },
  {
   "cell_type": "markdown",
   "id": "9c28527d",
   "metadata": {},
   "source": [
    "### Molecule equality and atoms `in` `Molecule`s"
   ]
  },
  {
   "cell_type": "markdown",
   "id": "ef86dcab",
   "metadata": {},
   "source": [
    "## Visualizing `Molecule` objects"
   ]
  },
  {
   "cell_type": "code",
   "execution_count": null,
   "id": "1c7beb00",
   "metadata": {},
   "outputs": [],
   "source": []
  },
  {
   "cell_type": "code",
   "execution_count": null,
   "id": "692cfca7",
   "metadata": {},
   "outputs": [],
   "source": []
  }
 ],
 "metadata": {
  "kernelspec": {
   "display_name": "Python 3 (ipykernel)",
   "language": "python",
   "name": "python3"
  },
  "language_info": {
   "codemirror_mode": {
    "name": "ipython",
    "version": 3
   },
   "file_extension": ".py",
   "mimetype": "text/x-python",
   "name": "python",
   "nbconvert_exporter": "python",
   "pygments_lexer": "ipython3",
   "version": "3.10.14"
  }
 },
 "nbformat": 4,
 "nbformat_minor": 5
}
