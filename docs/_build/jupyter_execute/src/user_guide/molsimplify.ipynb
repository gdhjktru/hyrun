{
 "cells": [
  {
   "cell_type": "markdown",
   "id": "4b7a89fd",
   "metadata": {},
   "source": [
    "# Molsimplify\n",
    "The *Hylleraas Software Platform* `Molsimplify` interface allows the integrated use of its tools for the assembly of transition metal complexes in Python pipelines."
   ]
  },
  {
   "cell_type": "markdown",
   "id": "e6618b93",
   "metadata": {},
   "source": [
    "### Setting up the interface\n",
    "The `Molsimplify` interface is set up up by simply importing the corresponding module and instantiating an object."
   ]
  },
  {
   "cell_type": "code",
   "execution_count": null,
   "id": "d5f33400",
   "metadata": {},
   "outputs": [
    {
     "ename": "ModuleNotFoundError",
     "evalue": "No module named 'hyif'",
     "output_type": "error",
     "traceback": [
      "\u001b[0;31m---------------------------------------------------------------------------\u001b[0m",
      "\u001b[0;31mModuleNotFoundError\u001b[0m                       Traceback (most recent call last)",
      "Cell \u001b[0;32mIn[2], line 2\u001b[0m\n\u001b[1;32m      1\u001b[0m \u001b[38;5;66;03m#import hylleraas as hsp\u001b[39;00m\n\u001b[0;32m----> 2\u001b[0m \u001b[38;5;28;01mfrom\u001b[39;00m\u001b[38;5;250m \u001b[39m\u001b[38;5;21;01mhyif\u001b[39;00m\u001b[38;5;250m \u001b[39m\u001b[38;5;28;01mimport\u001b[39;00m Molsimplify\n\u001b[1;32m      3\u001b[0m \u001b[38;5;66;03m#molsimplify = hsp.Molsimplify()\u001b[39;00m\n\u001b[1;32m      4\u001b[0m molsimplify \u001b[38;5;241m=\u001b[39m Molsimplify()\n",
      "\u001b[0;31mModuleNotFoundError\u001b[0m: No module named 'hyif'"
     ]
    }
   ],
   "source": [
    "#import hylleraas as hsp\n",
    "from hyif import Molsimplify\n",
    "#molsimplify = hsp.Molsimplify()\n",
    "molsimplify = Molsimplify()"
   ]
  },
  {
   "cell_type": "markdown",
   "id": "1f77aecc",
   "metadata": {},
   "source": [
    "### Assembling a transition metal complex\n",
    "A metal complex can be assembled using the `.build_tmc()` function that takes three arguments:\n",
    " - **geometry**: The desired metal coordination geometry. Choose from: li, tpl, sqp, thd, spy, tbp, oct, tpr,\n",
    "                pbp, sqap.\n",
    " - **metal_center**: The atomic symbol of the metal to be used.\n",
    " - **ligand_names**: The list of names of the ligands to attach. The names are as they appear in the molSimplify library.\n",
    " \n",
    "The function will return a `Molecule` object which can directly be passed to other modules of the *Hylleraas Software Platform*.\n",
    " \n",
    "In the following we present a couple of examples."
   ]
  },
  {
   "cell_type": "code",
   "execution_count": 2,
   "id": "0b1d0891",
   "metadata": {},
   "outputs": [
    {
     "ename": "TypeError",
     "evalue": "Molsimplify.setup() takes 1 positional argument but 2 were given",
     "output_type": "error",
     "traceback": [
      "\u001b[0;31m---------------------------------------------------------------------------\u001b[0m",
      "\u001b[0;31mTypeError\u001b[0m                                 Traceback (most recent call last)",
      "Cell \u001b[0;32mIn[2], line 5\u001b[0m\n\u001b[1;32m      3\u001b[0m metal_center \u001b[38;5;241m=\u001b[39m \u001b[38;5;124m'\u001b[39m\u001b[38;5;124mPt\u001b[39m\u001b[38;5;124m'\u001b[39m\n\u001b[1;32m      4\u001b[0m ligand_names \u001b[38;5;241m=\u001b[39m [\u001b[38;5;124m'\u001b[39m\u001b[38;5;124mcl\u001b[39m\u001b[38;5;124m'\u001b[39m, \u001b[38;5;124m'\u001b[39m\u001b[38;5;124mcl\u001b[39m\u001b[38;5;124m'\u001b[39m, \u001b[38;5;124m'\u001b[39m\u001b[38;5;124mnh3\u001b[39m\u001b[38;5;124m'\u001b[39m, \u001b[38;5;124m'\u001b[39m\u001b[38;5;124mnh3\u001b[39m\u001b[38;5;124m'\u001b[39m]\n\u001b[0;32m----> 5\u001b[0m tmc \u001b[38;5;241m=\u001b[39m molsimplify\u001b[38;5;241m.\u001b[39mbuild_tmc(geometry, metal_center, ligand_names)\n",
      "File \u001b[0;32m~/anaconda3/lib/python3.11/site-packages/hyif/cheminformatics/molsimplify/src/molsimplify.py:193\u001b[0m, in \u001b[0;36mMolsimplify.build_tmc\u001b[0;34m(self, geometry, metal_center, ligand_names, check_ligands)\u001b[0m\n\u001b[1;32m    184\u001b[0m     \u001b[38;5;28;01mraise\u001b[39;00m \u001b[38;5;167;01mValueError\u001b[39;00m(\n\u001b[1;32m    185\u001b[0m         \u001b[38;5;124m'\u001b[39m\u001b[38;5;124mCannot build TMC because the specified metal center \u001b[39m\u001b[38;5;124m'\u001b[39m\n\u001b[1;32m    186\u001b[0m         \u001b[38;5;241m+\u001b[39m \u001b[38;5;124m'\u001b[39m\u001b[38;5;124melement identifier \u001b[39m\u001b[38;5;124m\"\u001b[39m\u001b[38;5;124m'\u001b[39m\n\u001b[0;32m   (...)\u001b[0m\n\u001b[1;32m    190\u001b[0m         \u001b[38;5;241m+\u001b[39m \u001b[38;5;124m'\u001b[39m\u001b[38;5;124m, \u001b[39m\u001b[38;5;124m'\u001b[39m\u001b[38;5;241m.\u001b[39mjoin(METAL_ELEMENT_IDENTIFIERS) \u001b[38;5;241m+\u001b[39m \u001b[38;5;124m'\u001b[39m\u001b[38;5;124m.\u001b[39m\u001b[38;5;124m'\u001b[39m\n\u001b[1;32m    191\u001b[0m     )\n\u001b[1;32m    192\u001b[0m \u001b[38;5;28;01mif\u001b[39;00m check_ligands:\n\u001b[0;32m--> 193\u001b[0m     existing_ligand_names \u001b[38;5;241m=\u001b[39m \u001b[38;5;28mself\u001b[39m\u001b[38;5;241m.\u001b[39mget_existing_ligand_names()\n\u001b[1;32m    194\u001b[0m     \u001b[38;5;28;01mfor\u001b[39;00m _ \u001b[38;5;129;01min\u001b[39;00m ligand_names:\n\u001b[1;32m    195\u001b[0m         \u001b[38;5;28;01mif\u001b[39;00m _ \u001b[38;5;129;01mnot\u001b[39;00m \u001b[38;5;129;01min\u001b[39;00m existing_ligand_names:\n",
      "File \u001b[0;32m~/anaconda3/lib/python3.11/site-packages/hyif/cheminformatics/molsimplify/src/molsimplify.py:296\u001b[0m, in \u001b[0;36mMolsimplify.get_existing_ligand_names\u001b[0;34m(self)\u001b[0m\n\u001b[1;32m    287\u001b[0m \u001b[38;5;28;01mdef\u001b[39;00m\u001b[38;5;250m \u001b[39m\u001b[38;5;21mget_existing_ligand_names\u001b[39m(\u001b[38;5;28mself\u001b[39m):\n\u001b[1;32m    288\u001b[0m \u001b[38;5;250m    \u001b[39m\u001b[38;5;124;03m\"\"\"Get the names of existing ligands in the molSimplify library.\u001b[39;00m\n\u001b[1;32m    289\u001b[0m \n\u001b[1;32m    290\u001b[0m \u001b[38;5;124;03m    Returns\u001b[39;00m\n\u001b[0;32m   (...)\u001b[0m\n\u001b[1;32m    294\u001b[0m \n\u001b[1;32m    295\u001b[0m \u001b[38;5;124;03m    \"\"\"\u001b[39;00m\n\u001b[0;32m--> 296\u001b[0m     existing_ligands_raw \u001b[38;5;241m=\u001b[39m \u001b[38;5;28mself\u001b[39m\u001b[38;5;241m.\u001b[39mrun(\n\u001b[1;32m    297\u001b[0m         input_args\u001b[38;5;241m=\u001b[39m[\u001b[38;5;124m'\u001b[39m\u001b[38;5;124m-h liganddict\u001b[39m\u001b[38;5;124m'\u001b[39m],\n\u001b[1;32m    298\u001b[0m         run_opt\u001b[38;5;241m=\u001b[39m{\u001b[38;5;124m'\u001b[39m\u001b[38;5;124mforce_recompute\u001b[39m\u001b[38;5;124m'\u001b[39m: \u001b[38;5;28;01mTrue\u001b[39;00m}\n\u001b[1;32m    299\u001b[0m     )[\u001b[38;5;124m'\u001b[39m\u001b[38;5;124mstdout\u001b[39m\u001b[38;5;124m'\u001b[39m]\n\u001b[1;32m    300\u001b[0m     existing_ligands_raw \u001b[38;5;241m=\u001b[39m existing_ligands_raw\u001b[38;5;241m.\u001b[39mreplace(\u001b[38;5;124m'\u001b[39m\u001b[38;5;124m}\u001b[39m\u001b[38;5;124m'\u001b[39m, \u001b[38;5;124m'\u001b[39m\u001b[38;5;124m'\u001b[39m)\n\u001b[1;32m    301\u001b[0m     \u001b[38;5;28;01mreturn\u001b[39;00m [_\u001b[38;5;241m.\u001b[39mstrip() \u001b[38;5;28;01mfor\u001b[39;00m _ \u001b[38;5;129;01min\u001b[39;00m existing_ligands_raw\u001b[38;5;241m.\u001b[39msplit(\u001b[38;5;124m'\u001b[39m\u001b[38;5;130;01m\\n\u001b[39;00m\u001b[38;5;124m'\u001b[39m)[\u001b[38;5;241m8\u001b[39m:\u001b[38;5;241m-\u001b[39m\u001b[38;5;241m1\u001b[39m]]\n",
      "File \u001b[0;32m~/anaconda3/lib/python3.11/site-packages/hyif/base/base.py:281\u001b[0m, in \u001b[0;36mHylleraasInterfaceBase.run\u001b[0;34m(self, *args, **kwargs)\u001b[0m\n\u001b[1;32m    258\u001b[0m \u001b[38;5;28;01mdef\u001b[39;00m\u001b[38;5;250m \u001b[39m\u001b[38;5;21mrun\u001b[39m(\u001b[38;5;28mself\u001b[39m, \u001b[38;5;241m*\u001b[39margs, \u001b[38;5;241m*\u001b[39m\u001b[38;5;241m*\u001b[39mkwargs):\n\u001b[1;32m    259\u001b[0m \u001b[38;5;250m    \u001b[39m\u001b[38;5;124;03m\"\"\"Run calculation in a context-based manner.\u001b[39;00m\n\u001b[1;32m    260\u001b[0m \n\u001b[1;32m    261\u001b[0m \u001b[38;5;124;03m    This method accepts an object of type HylleraasObject, along with a\u001b[39;00m\n\u001b[0;32m   (...)\u001b[0m\n\u001b[1;32m    279\u001b[0m \n\u001b[1;32m    280\u001b[0m \u001b[38;5;124;03m    \"\"\"\u001b[39;00m\n\u001b[0;32m--> 281\u001b[0m     \u001b[38;5;28;01mwith\u001b[39;00m compute(\u001b[38;5;28mself\u001b[39m,\n\u001b[1;32m    282\u001b[0m                  args[\u001b[38;5;241m0\u001b[39m] \u001b[38;5;28;01mif\u001b[39;00m args \u001b[38;5;28;01melse\u001b[39;00m \u001b[38;5;28;01mNone\u001b[39;00m,\n\u001b[1;32m    283\u001b[0m                  \u001b[38;5;241m*\u001b[39margs[\u001b[38;5;241m1\u001b[39m:],\n\u001b[1;32m    284\u001b[0m                  \u001b[38;5;241m*\u001b[39m\u001b[38;5;241m*\u001b[39mkwargs) \u001b[38;5;28;01mas\u001b[39;00m r:\n\u001b[1;32m    285\u001b[0m         \u001b[38;5;28;01mreturn\u001b[39;00m r\n",
      "File \u001b[0;32m~/anaconda3/lib/python3.11/contextlib.py:137\u001b[0m, in \u001b[0;36m_GeneratorContextManager.__enter__\u001b[0;34m(self)\u001b[0m\n\u001b[1;32m    135\u001b[0m \u001b[38;5;28;01mdel\u001b[39;00m \u001b[38;5;28mself\u001b[39m\u001b[38;5;241m.\u001b[39margs, \u001b[38;5;28mself\u001b[39m\u001b[38;5;241m.\u001b[39mkwds, \u001b[38;5;28mself\u001b[39m\u001b[38;5;241m.\u001b[39mfunc\n\u001b[1;32m    136\u001b[0m \u001b[38;5;28;01mtry\u001b[39;00m:\n\u001b[0;32m--> 137\u001b[0m     \u001b[38;5;28;01mreturn\u001b[39;00m \u001b[38;5;28mnext\u001b[39m(\u001b[38;5;28mself\u001b[39m\u001b[38;5;241m.\u001b[39mgen)\n\u001b[1;32m    138\u001b[0m \u001b[38;5;28;01mexcept\u001b[39;00m \u001b[38;5;167;01mStopIteration\u001b[39;00m:\n\u001b[1;32m    139\u001b[0m     \u001b[38;5;28;01mraise\u001b[39;00m \u001b[38;5;167;01mRuntimeError\u001b[39;00m(\u001b[38;5;124m\"\u001b[39m\u001b[38;5;124mgenerator didn\u001b[39m\u001b[38;5;124m'\u001b[39m\u001b[38;5;124mt yield\u001b[39m\u001b[38;5;124m\"\u001b[39m) \u001b[38;5;28;01mfrom\u001b[39;00m\u001b[38;5;250m \u001b[39m\u001b[38;5;28;01mNone\u001b[39;00m\n",
      "File \u001b[0;32m~/anaconda3/lib/python3.11/site-packages/hyset/compute.py:59\u001b[0m, in \u001b[0;36mcompute\u001b[0;34m(method, obj, *args, **kwargs)\u001b[0m\n\u001b[1;32m     54\u001b[0m     \u001b[38;5;28;01mraise\u001b[39;00m \u001b[38;5;167;01mAttributeError\u001b[39;00m(\u001b[38;5;124m'\u001b[39m\u001b[38;5;124mmethod must have setup, compute_settings, and \u001b[39m\u001b[38;5;124m'\u001b[39m\n\u001b[1;32m     55\u001b[0m                          \u001b[38;5;124m'\u001b[39m\u001b[38;5;124mparse attributes\u001b[39m\u001b[38;5;124m'\u001b[39m)\n\u001b[1;32m     57\u001b[0m result_kwargs \u001b[38;5;241m=\u001b[39m kwargs\u001b[38;5;241m.\u001b[39mpop(\u001b[38;5;124m'\u001b[39m\u001b[38;5;124mresult_kwargs\u001b[39m\u001b[38;5;124m'\u001b[39m, {})\n\u001b[0;32m---> 59\u001b[0m run_settings: RunSettings \u001b[38;5;241m=\u001b[39m method\u001b[38;5;241m.\u001b[39msetup(obj,  \u001b[38;5;66;03m# type: ignore\u001b[39;00m\n\u001b[1;32m     60\u001b[0m                                          \u001b[38;5;241m*\u001b[39margs, \u001b[38;5;241m*\u001b[39m\u001b[38;5;241m*\u001b[39mkwargs)\n\u001b[1;32m     62\u001b[0m result_kwargs[\u001b[38;5;124m'\u001b[39m\u001b[38;5;124moutput_type\u001b[39m\u001b[38;5;124m'\u001b[39m] \u001b[38;5;241m=\u001b[39m \u001b[38;5;28mgetattr\u001b[39m(run_settings, \u001b[38;5;124m'\u001b[39m\u001b[38;5;124moutput_type\u001b[39m\u001b[38;5;124m'\u001b[39m, \u001b[38;5;28;01mNone\u001b[39;00m)\n\u001b[1;32m     63\u001b[0m result_kwargs[\u001b[38;5;124m'\u001b[39m\u001b[38;5;124mlogger\u001b[39m\u001b[38;5;124m'\u001b[39m] \u001b[38;5;241m=\u001b[39m \u001b[38;5;28mgetattr\u001b[39m(run_settings, \u001b[38;5;124m'\u001b[39m\u001b[38;5;124mlogger\u001b[39m\u001b[38;5;124m'\u001b[39m, \u001b[38;5;28;01mNone\u001b[39;00m)\n",
      "File \u001b[0;32m~/anaconda3/lib/python3.11/site-packages/hyset/run_settings.py:44\u001b[0m, in \u001b[0;36mrun_sequentially.<locals>.wrapper\u001b[0;34m(self, arg, *args, **kwargs)\u001b[0m\n\u001b[1;32m     41\u001b[0m \u001b[38;5;129m@wraps\u001b[39m(func)\n\u001b[1;32m     42\u001b[0m \u001b[38;5;28;01mdef\u001b[39;00m\u001b[38;5;250m \u001b[39m\u001b[38;5;21mwrapper\u001b[39m(\u001b[38;5;28mself\u001b[39m, arg, \u001b[38;5;241m*\u001b[39margs, \u001b[38;5;241m*\u001b[39m\u001b[38;5;241m*\u001b[39mkwargs):\n\u001b[1;32m     43\u001b[0m     \u001b[38;5;28;01mif\u001b[39;00m \u001b[38;5;129;01mnot\u001b[39;00m \u001b[38;5;28misinstance\u001b[39m(arg, \u001b[38;5;28mlist\u001b[39m):\n\u001b[0;32m---> 44\u001b[0m         \u001b[38;5;28;01mreturn\u001b[39;00m func(\u001b[38;5;28mself\u001b[39m, arg, \u001b[38;5;241m*\u001b[39margs, \u001b[38;5;241m*\u001b[39m\u001b[38;5;241m*\u001b[39mkwargs)\n\u001b[1;32m     45\u001b[0m     results \u001b[38;5;241m=\u001b[39m []\n\u001b[1;32m     46\u001b[0m     \u001b[38;5;28;01mfor\u001b[39;00m elem \u001b[38;5;129;01min\u001b[39;00m arg:\n",
      "\u001b[0;31mTypeError\u001b[0m: Molsimplify.setup() takes 1 positional argument but 2 were given"
     ]
    }
   ],
   "source": [
    "# Cisplatin, a square planar Platinum complex commonly used in cancer therapy\n",
    "geometry = 'sqp'\n",
    "metal_center = 'Pt'\n",
    "ligand_names = ['cl', 'cl', 'nh3', 'nh3']\n",
    "tmc = molsimplify.build_tmc(geometry, metal_center, ligand_names)"
   ]
  },
  {
   "cell_type": "code",
   "execution_count": null,
   "id": "8c0c7d7c",
   "metadata": {},
   "outputs": [],
   "source": [
    "# Octahedral Ruthenium with an equatorial 12-Crown-4 4-dendate cyclcic ligand and axial Oxo and Alanine ligands.\n",
    "geometry = 'oct'\n",
    "metal_center = 'Ru'\n",
    "ligand_names = ['oxo', '12crown4', 'alanine']\n",
    "tmc = molsimplify.build_tmc(geometry, metal_center, ligand_names)"
   ]
  },
  {
   "cell_type": "code",
   "execution_count": null,
   "id": "234da012",
   "metadata": {},
   "outputs": [],
   "source": [
    "# Square planar Palladium complex with the same bidendate ligand once in cis and once in trans orientation\n",
    "geometry = 'sqp'\n",
    "metal_center = 'Pd'\n",
    "ligand_names = ['dppe', 'dppe_flipped']\n",
    "tmc = molsimplify.build_tmc(geometry, metal_center, ligand_names)"
   ]
  },
  {
   "cell_type": "markdown",
   "id": "9f1227b6",
   "metadata": {},
   "source": [
    "In the last example, the bulkiness of the involved ligands lead to overlapping atoms in the assembled metal complex structure of which we are made aware of through a user warning."
   ]
  },
  {
   "cell_type": "markdown",
   "id": "f5c91a13",
   "metadata": {},
   "source": [
    "### Adding ligands to molSimplify\n",
    "*molSimplify* comes with a library of predefined ligands. The names of the currently installed ligands can be obtained with the `.get_existing_ligand_names()` function."
   ]
  },
  {
   "cell_type": "code",
   "execution_count": null,
   "id": "caac2920",
   "metadata": {},
   "outputs": [],
   "source": [
    "molsimplify.get_existing_ligand_names()"
   ]
  },
  {
   "cell_type": "markdown",
   "id": "7b924315",
   "metadata": {},
   "source": [
    "If we want to use ligands that are not available by default, we can add our custom ligands to the *molSimplify* ligand library. For this we need either the `xyz` structure or `SMILES` string of our ligand. Furthermore, the functions `.add_ligand_from_xyz()` and `.add_ligand_from_smiles()` take two additional arguments respectively:\n",
    " - **name**: The chosen name for the ligand we want to add. This name will be used to request it when building a metal complex with the `.build_tmc()` function.\n",
    " - **idxs**: A list of the atom indices at which the ligand should be connected to the metal center. The atom indices are zero indexed and refer either to their positions in the `xyz` structure or `SMILES` string.\n",
    "\n",
    "In the following we show how these functions are used to add ligands to the *molSimplify* ligand library.\n",
    "\n",
    "**Note:** The ligand library is local to the machine you are working on."
   ]
  },
  {
   "cell_type": "code",
   "execution_count": null,
   "id": "73be5b4a",
   "metadata": {},
   "outputs": [],
   "source": [
    "# Add a methyl ligand from xyz\n",
    "xyz = '4\\nMethyl\\n' \n",
    "xyz += 'C 1.07 -0.07 0.02\\n'\n",
    "xyz += 'H 2.16 -0.07 0.02\\n'\n",
    "xyz += 'H 0.70  0.61 0.79\\n'\n",
    "xyz += 'H 0.70 -1.08 0.23\\n'\n",
    "name = 'methyl_xyz'\n",
    "idxs = [0]\n",
    "molsimplify.add_ligand_from_xyz(xyz, name, idxs)"
   ]
  },
  {
   "cell_type": "code",
   "execution_count": null,
   "id": "5279d6c7",
   "metadata": {},
   "outputs": [],
   "source": [
    "# Add a methyl ligand from SMILES\n",
    "smiles = '[C]([H])([H])[H]'\n",
    "name = 'methyl_smiles'\n",
    "idxs = [0]\n",
    "molsimplify.add_ligand_from_smiles(smiles, name, idxs)"
   ]
  },
  {
   "cell_type": "markdown",
   "id": "9f4f082b",
   "metadata": {},
   "source": [
    "Checking that this has worked with the `.get_existing_ligand_names()` function, we see that both ligands were successfully added.\n",
    "\n",
    "**Note:** If you are trying to add a ligand with a name that already exists in the ligand library, the ."
   ]
  },
  {
   "cell_type": "code",
   "execution_count": null,
   "id": "692cfca7",
   "metadata": {},
   "outputs": [],
   "source": [
    "'methyl_xyz' in molsimplify.get_existing_ligand_names()"
   ]
  },
  {
   "cell_type": "code",
   "execution_count": null,
   "id": "ddddd6d2",
   "metadata": {},
   "outputs": [],
   "source": [
    "'methyl_smiles' in molsimplify.get_existing_ligand_names()"
   ]
  }
 ],
 "metadata": {
  "kernelspec": {
   "display_name": "molsimp",
   "language": "python",
   "name": "python3"
  },
  "language_info": {
   "codemirror_mode": {
    "name": "ipython",
    "version": 3
   },
   "file_extension": ".py",
   "mimetype": "text/x-python",
   "name": "python",
   "nbconvert_exporter": "python",
   "pygments_lexer": "ipython3",
   "version": "3.10.16"
  }
 },
 "nbformat": 4,
 "nbformat_minor": 5
}